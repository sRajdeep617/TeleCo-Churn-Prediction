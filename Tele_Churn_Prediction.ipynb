{
  "nbformat": 4,
  "nbformat_minor": 0,
  "metadata": {
    "accelerator": "GPU",
    "colab": {
      "name": "Tele Churn Prediction.ipynb",
      "provenance": [],
      "collapsed_sections": [],
      "mount_file_id": "1AOq-VrqwtgrQ62ffLLUywy6wF6eXcNWA",
      "authorship_tag": "ABX9TyOQg4XGZhB15LI4NEtFP6h5",
      "include_colab_link": true
    },
    "kernelspec": {
      "display_name": "Python 3",
      "name": "python3"
    }
  },
  "cells": [
    {
      "cell_type": "markdown",
      "metadata": {
        "id": "view-in-github",
        "colab_type": "text"
      },
      "source": [
        "<a href=\"https://colab.research.google.com/github/sRajdeep617/TeleCo-Churn-Prediction/blob/main/Tele_Churn_Prediction.ipynb\" target=\"_parent\"><img src=\"https://colab.research.google.com/assets/colab-badge.svg\" alt=\"Open In Colab\"/></a>"
      ]
    },
    {
      "cell_type": "code",
      "metadata": {
        "id": "nFIrhARbYThq"
      },
      "source": [
        "# importing the libraries\n",
        "import numpy as np\n",
        "import pandas as pd\n",
        "import matplotlib.pyplot as plt\n",
        "import seaborn as sns\n",
        "from sklearn.metrics import classification_report\n",
        "%matplotlib inline"
      ],
      "execution_count": null,
      "outputs": []
    },
    {
      "cell_type": "code",
      "metadata": {
        "colab": {
          "base_uri": "https://localhost:8080/",
          "height": 305
        },
        "id": "CSuQBd_rZRSF",
        "outputId": "baa1ee22-7e69-43d7-da93-142dfa994a7d"
      },
      "source": [
        "# importing the dataset\n",
        "dataset = pd.read_csv('/content/drive/MyDrive/Projects/TeleCo Churn Prediction/Telco-Customer-Churn.csv')\n",
        "dataset.head()"
      ],
      "execution_count": null,
      "outputs": [
        {
          "output_type": "execute_result",
          "data": {
            "text/html": [
              "<div>\n",
              "<style scoped>\n",
              "    .dataframe tbody tr th:only-of-type {\n",
              "        vertical-align: middle;\n",
              "    }\n",
              "\n",
              "    .dataframe tbody tr th {\n",
              "        vertical-align: top;\n",
              "    }\n",
              "\n",
              "    .dataframe thead th {\n",
              "        text-align: right;\n",
              "    }\n",
              "</style>\n",
              "<table border=\"1\" class=\"dataframe\">\n",
              "  <thead>\n",
              "    <tr style=\"text-align: right;\">\n",
              "      <th></th>\n",
              "      <th>customerID</th>\n",
              "      <th>gender</th>\n",
              "      <th>SeniorCitizen</th>\n",
              "      <th>Partner</th>\n",
              "      <th>Dependents</th>\n",
              "      <th>tenure</th>\n",
              "      <th>PhoneService</th>\n",
              "      <th>MultipleLines</th>\n",
              "      <th>InternetService</th>\n",
              "      <th>OnlineSecurity</th>\n",
              "      <th>OnlineBackup</th>\n",
              "      <th>DeviceProtection</th>\n",
              "      <th>TechSupport</th>\n",
              "      <th>StreamingTV</th>\n",
              "      <th>StreamingMovies</th>\n",
              "      <th>Contract</th>\n",
              "      <th>PaperlessBilling</th>\n",
              "      <th>PaymentMethod</th>\n",
              "      <th>MonthlyCharges</th>\n",
              "      <th>TotalCharges</th>\n",
              "      <th>Churn</th>\n",
              "    </tr>\n",
              "  </thead>\n",
              "  <tbody>\n",
              "    <tr>\n",
              "      <th>0</th>\n",
              "      <td>7590-VHVEG</td>\n",
              "      <td>Female</td>\n",
              "      <td>0</td>\n",
              "      <td>Yes</td>\n",
              "      <td>No</td>\n",
              "      <td>1</td>\n",
              "      <td>No</td>\n",
              "      <td>No phone service</td>\n",
              "      <td>DSL</td>\n",
              "      <td>No</td>\n",
              "      <td>Yes</td>\n",
              "      <td>No</td>\n",
              "      <td>No</td>\n",
              "      <td>No</td>\n",
              "      <td>No</td>\n",
              "      <td>Month-to-month</td>\n",
              "      <td>Yes</td>\n",
              "      <td>Electronic check</td>\n",
              "      <td>29.85</td>\n",
              "      <td>29.85</td>\n",
              "      <td>No</td>\n",
              "    </tr>\n",
              "    <tr>\n",
              "      <th>1</th>\n",
              "      <td>5575-GNVDE</td>\n",
              "      <td>Male</td>\n",
              "      <td>0</td>\n",
              "      <td>No</td>\n",
              "      <td>No</td>\n",
              "      <td>34</td>\n",
              "      <td>Yes</td>\n",
              "      <td>No</td>\n",
              "      <td>DSL</td>\n",
              "      <td>Yes</td>\n",
              "      <td>No</td>\n",
              "      <td>Yes</td>\n",
              "      <td>No</td>\n",
              "      <td>No</td>\n",
              "      <td>No</td>\n",
              "      <td>One year</td>\n",
              "      <td>No</td>\n",
              "      <td>Mailed check</td>\n",
              "      <td>56.95</td>\n",
              "      <td>1889.5</td>\n",
              "      <td>No</td>\n",
              "    </tr>\n",
              "    <tr>\n",
              "      <th>2</th>\n",
              "      <td>3668-QPYBK</td>\n",
              "      <td>Male</td>\n",
              "      <td>0</td>\n",
              "      <td>No</td>\n",
              "      <td>No</td>\n",
              "      <td>2</td>\n",
              "      <td>Yes</td>\n",
              "      <td>No</td>\n",
              "      <td>DSL</td>\n",
              "      <td>Yes</td>\n",
              "      <td>Yes</td>\n",
              "      <td>No</td>\n",
              "      <td>No</td>\n",
              "      <td>No</td>\n",
              "      <td>No</td>\n",
              "      <td>Month-to-month</td>\n",
              "      <td>Yes</td>\n",
              "      <td>Mailed check</td>\n",
              "      <td>53.85</td>\n",
              "      <td>108.15</td>\n",
              "      <td>Yes</td>\n",
              "    </tr>\n",
              "    <tr>\n",
              "      <th>3</th>\n",
              "      <td>7795-CFOCW</td>\n",
              "      <td>Male</td>\n",
              "      <td>0</td>\n",
              "      <td>No</td>\n",
              "      <td>No</td>\n",
              "      <td>45</td>\n",
              "      <td>No</td>\n",
              "      <td>No phone service</td>\n",
              "      <td>DSL</td>\n",
              "      <td>Yes</td>\n",
              "      <td>No</td>\n",
              "      <td>Yes</td>\n",
              "      <td>Yes</td>\n",
              "      <td>No</td>\n",
              "      <td>No</td>\n",
              "      <td>One year</td>\n",
              "      <td>No</td>\n",
              "      <td>Bank transfer (automatic)</td>\n",
              "      <td>42.30</td>\n",
              "      <td>1840.75</td>\n",
              "      <td>No</td>\n",
              "    </tr>\n",
              "    <tr>\n",
              "      <th>4</th>\n",
              "      <td>9237-HQITU</td>\n",
              "      <td>Female</td>\n",
              "      <td>0</td>\n",
              "      <td>No</td>\n",
              "      <td>No</td>\n",
              "      <td>2</td>\n",
              "      <td>Yes</td>\n",
              "      <td>No</td>\n",
              "      <td>Fiber optic</td>\n",
              "      <td>No</td>\n",
              "      <td>No</td>\n",
              "      <td>No</td>\n",
              "      <td>No</td>\n",
              "      <td>No</td>\n",
              "      <td>No</td>\n",
              "      <td>Month-to-month</td>\n",
              "      <td>Yes</td>\n",
              "      <td>Electronic check</td>\n",
              "      <td>70.70</td>\n",
              "      <td>151.65</td>\n",
              "      <td>Yes</td>\n",
              "    </tr>\n",
              "  </tbody>\n",
              "</table>\n",
              "</div>"
            ],
            "text/plain": [
              "   customerID  gender  SeniorCitizen  ... MonthlyCharges TotalCharges  Churn\n",
              "0  7590-VHVEG  Female              0  ...          29.85        29.85     No\n",
              "1  5575-GNVDE    Male              0  ...          56.95       1889.5     No\n",
              "2  3668-QPYBK    Male              0  ...          53.85       108.15    Yes\n",
              "3  7795-CFOCW    Male              0  ...          42.30      1840.75     No\n",
              "4  9237-HQITU  Female              0  ...          70.70       151.65    Yes\n",
              "\n",
              "[5 rows x 21 columns]"
            ]
          },
          "metadata": {
            "tags": []
          },
          "execution_count": 2
        }
      ]
    },
    {
      "cell_type": "markdown",
      "metadata": {
        "id": "bMfROzagWTgN"
      },
      "source": [
        "Each row represents a customer, each column contains customer’s attributes described on the column.\n",
        "\n",
        "The data set includes information about:\n",
        "\n",
        "- Customers who left within the last month – the column is called Churn\n",
        "\n",
        "- Services that each customer has signed up for – phone, multiple lines, internet, online security, online backup, device protection, tech support, and streaming TV and movies\n",
        "\n",
        "- Customer account information – how long they’ve been a customer, contract, payment method, paperless billing, monthly charges, and total charges\n",
        "\n",
        "- Demographic info about customers – gender, age range, and if they have partners and dependents"
      ]
    },
    {
      "cell_type": "code",
      "metadata": {
        "colab": {
          "base_uri": "https://localhost:8080/"
        },
        "id": "QmfF5y9lcBDB",
        "outputId": "fad11a8a-ef48-42b7-8c26-68c956afaef0"
      },
      "source": [
        "dataset.shape"
      ],
      "execution_count": null,
      "outputs": [
        {
          "output_type": "execute_result",
          "data": {
            "text/plain": [
              "(7043, 21)"
            ]
          },
          "metadata": {
            "tags": []
          },
          "execution_count": 3
        }
      ]
    },
    {
      "cell_type": "markdown",
      "metadata": {
        "id": "fQ_LlAk3XRcz"
      },
      "source": [
        "**EDA**"
      ]
    },
    {
      "cell_type": "code",
      "metadata": {
        "colab": {
          "base_uri": "https://localhost:8080/"
        },
        "id": "m4c1JNj5cFHq",
        "outputId": "22679a04-f597-40b1-b7ac-64daa58ff61f"
      },
      "source": [
        "dataset.info()"
      ],
      "execution_count": null,
      "outputs": [
        {
          "output_type": "stream",
          "text": [
            "<class 'pandas.core.frame.DataFrame'>\n",
            "RangeIndex: 7043 entries, 0 to 7042\n",
            "Data columns (total 21 columns):\n",
            " #   Column            Non-Null Count  Dtype  \n",
            "---  ------            --------------  -----  \n",
            " 0   customerID        7043 non-null   object \n",
            " 1   gender            7043 non-null   object \n",
            " 2   SeniorCitizen     7043 non-null   int64  \n",
            " 3   Partner           7043 non-null   object \n",
            " 4   Dependents        7043 non-null   object \n",
            " 5   tenure            7043 non-null   int64  \n",
            " 6   PhoneService      7043 non-null   object \n",
            " 7   MultipleLines     7043 non-null   object \n",
            " 8   InternetService   7043 non-null   object \n",
            " 9   OnlineSecurity    7043 non-null   object \n",
            " 10  OnlineBackup      7043 non-null   object \n",
            " 11  DeviceProtection  7043 non-null   object \n",
            " 12  TechSupport       7043 non-null   object \n",
            " 13  StreamingTV       7043 non-null   object \n",
            " 14  StreamingMovies   7043 non-null   object \n",
            " 15  Contract          7043 non-null   object \n",
            " 16  PaperlessBilling  7043 non-null   object \n",
            " 17  PaymentMethod     7043 non-null   object \n",
            " 18  MonthlyCharges    7043 non-null   float64\n",
            " 19  TotalCharges      7043 non-null   object \n",
            " 20  Churn             7043 non-null   object \n",
            "dtypes: float64(1), int64(2), object(18)\n",
            "memory usage: 1.1+ MB\n"
          ],
          "name": "stdout"
        }
      ]
    },
    {
      "cell_type": "code",
      "metadata": {
        "colab": {
          "base_uri": "https://localhost:8080/",
          "height": 291
        },
        "id": "uS0eiu-ccLj9",
        "outputId": "6244fcbd-e650-42f1-a993-dff30ef9bd82"
      },
      "source": [
        "dataset.describe()"
      ],
      "execution_count": null,
      "outputs": [
        {
          "output_type": "execute_result",
          "data": {
            "text/html": [
              "<div>\n",
              "<style scoped>\n",
              "    .dataframe tbody tr th:only-of-type {\n",
              "        vertical-align: middle;\n",
              "    }\n",
              "\n",
              "    .dataframe tbody tr th {\n",
              "        vertical-align: top;\n",
              "    }\n",
              "\n",
              "    .dataframe thead th {\n",
              "        text-align: right;\n",
              "    }\n",
              "</style>\n",
              "<table border=\"1\" class=\"dataframe\">\n",
              "  <thead>\n",
              "    <tr style=\"text-align: right;\">\n",
              "      <th></th>\n",
              "      <th>SeniorCitizen</th>\n",
              "      <th>tenure</th>\n",
              "      <th>MonthlyCharges</th>\n",
              "    </tr>\n",
              "  </thead>\n",
              "  <tbody>\n",
              "    <tr>\n",
              "      <th>count</th>\n",
              "      <td>7043.000000</td>\n",
              "      <td>7043.000000</td>\n",
              "      <td>7043.000000</td>\n",
              "    </tr>\n",
              "    <tr>\n",
              "      <th>mean</th>\n",
              "      <td>0.162147</td>\n",
              "      <td>32.371149</td>\n",
              "      <td>64.761692</td>\n",
              "    </tr>\n",
              "    <tr>\n",
              "      <th>std</th>\n",
              "      <td>0.368612</td>\n",
              "      <td>24.559481</td>\n",
              "      <td>30.090047</td>\n",
              "    </tr>\n",
              "    <tr>\n",
              "      <th>min</th>\n",
              "      <td>0.000000</td>\n",
              "      <td>0.000000</td>\n",
              "      <td>18.250000</td>\n",
              "    </tr>\n",
              "    <tr>\n",
              "      <th>25%</th>\n",
              "      <td>0.000000</td>\n",
              "      <td>9.000000</td>\n",
              "      <td>35.500000</td>\n",
              "    </tr>\n",
              "    <tr>\n",
              "      <th>50%</th>\n",
              "      <td>0.000000</td>\n",
              "      <td>29.000000</td>\n",
              "      <td>70.350000</td>\n",
              "    </tr>\n",
              "    <tr>\n",
              "      <th>75%</th>\n",
              "      <td>0.000000</td>\n",
              "      <td>55.000000</td>\n",
              "      <td>89.850000</td>\n",
              "    </tr>\n",
              "    <tr>\n",
              "      <th>max</th>\n",
              "      <td>1.000000</td>\n",
              "      <td>72.000000</td>\n",
              "      <td>118.750000</td>\n",
              "    </tr>\n",
              "  </tbody>\n",
              "</table>\n",
              "</div>"
            ],
            "text/plain": [
              "       SeniorCitizen       tenure  MonthlyCharges\n",
              "count    7043.000000  7043.000000     7043.000000\n",
              "mean        0.162147    32.371149       64.761692\n",
              "std         0.368612    24.559481       30.090047\n",
              "min         0.000000     0.000000       18.250000\n",
              "25%         0.000000     9.000000       35.500000\n",
              "50%         0.000000    29.000000       70.350000\n",
              "75%         0.000000    55.000000       89.850000\n",
              "max         1.000000    72.000000      118.750000"
            ]
          },
          "metadata": {
            "tags": []
          },
          "execution_count": 5
        }
      ]
    },
    {
      "cell_type": "code",
      "metadata": {
        "colab": {
          "base_uri": "https://localhost:8080/"
        },
        "id": "z8AXLlDAcRWn",
        "outputId": "2b0065c7-1301-4f2d-b2d1-451a357f1d78"
      },
      "source": [
        "dataset.isnull().sum()"
      ],
      "execution_count": null,
      "outputs": [
        {
          "output_type": "execute_result",
          "data": {
            "text/plain": [
              "customerID          0\n",
              "gender              0\n",
              "SeniorCitizen       0\n",
              "Partner             0\n",
              "Dependents          0\n",
              "tenure              0\n",
              "PhoneService        0\n",
              "MultipleLines       0\n",
              "InternetService     0\n",
              "OnlineSecurity      0\n",
              "OnlineBackup        0\n",
              "DeviceProtection    0\n",
              "TechSupport         0\n",
              "StreamingTV         0\n",
              "StreamingMovies     0\n",
              "Contract            0\n",
              "PaperlessBilling    0\n",
              "PaymentMethod       0\n",
              "MonthlyCharges      0\n",
              "TotalCharges        0\n",
              "Churn               0\n",
              "dtype: int64"
            ]
          },
          "metadata": {
            "tags": []
          },
          "execution_count": 6
        }
      ]
    },
    {
      "cell_type": "markdown",
      "metadata": {
        "id": "xR3q2nGpcbF5"
      },
      "source": [
        "There are no null values"
      ]
    },
    {
      "cell_type": "code",
      "metadata": {
        "id": "FEF47hugcgCT"
      },
      "source": [
        "# dropping the customerID column since it provides no useful info\n",
        "df = dataset.copy()\n",
        "df.drop(['customerID'], axis = 1, inplace = True)"
      ],
      "execution_count": null,
      "outputs": []
    },
    {
      "cell_type": "code",
      "metadata": {
        "colab": {
          "base_uri": "https://localhost:8080/",
          "height": 470
        },
        "id": "SYZtFDS0czeV",
        "outputId": "350efd38-d1df-4eb7-a9b5-81d927aaf22a"
      },
      "source": [
        "# converting 'TotalCharges' column to numeric as it is in object data type\n",
        "pd.to_numeric(df.TotalCharges)"
      ],
      "execution_count": null,
      "outputs": [
        {
          "output_type": "error",
          "ename": "ValueError",
          "evalue": "ignored",
          "traceback": [
            "\u001b[0;31m---------------------------------------------------------------------------\u001b[0m",
            "\u001b[0;31mValueError\u001b[0m                                Traceback (most recent call last)",
            "\u001b[0;32mpandas/_libs/lib.pyx\u001b[0m in \u001b[0;36mpandas._libs.lib.maybe_convert_numeric\u001b[0;34m()\u001b[0m\n",
            "\u001b[0;31mValueError\u001b[0m: Unable to parse string \" \"",
            "\nDuring handling of the above exception, another exception occurred:\n",
            "\u001b[0;31mValueError\u001b[0m                                Traceback (most recent call last)",
            "\u001b[0;32m<ipython-input-8-d0379f7842c9>\u001b[0m in \u001b[0;36m<module>\u001b[0;34m()\u001b[0m\n\u001b[1;32m      1\u001b[0m \u001b[0;31m# converting 'TotalCharges' column to numeric as it is in object data type\u001b[0m\u001b[0;34m\u001b[0m\u001b[0;34m\u001b[0m\u001b[0;34m\u001b[0m\u001b[0m\n\u001b[0;32m----> 2\u001b[0;31m \u001b[0mpd\u001b[0m\u001b[0;34m.\u001b[0m\u001b[0mto_numeric\u001b[0m\u001b[0;34m(\u001b[0m\u001b[0mdf\u001b[0m\u001b[0;34m.\u001b[0m\u001b[0mTotalCharges\u001b[0m\u001b[0;34m)\u001b[0m\u001b[0;34m\u001b[0m\u001b[0;34m\u001b[0m\u001b[0m\n\u001b[0m",
            "\u001b[0;32m/usr/local/lib/python3.7/dist-packages/pandas/core/tools/numeric.py\u001b[0m in \u001b[0;36mto_numeric\u001b[0;34m(arg, errors, downcast)\u001b[0m\n\u001b[1;32m    151\u001b[0m         \u001b[0;32mtry\u001b[0m\u001b[0;34m:\u001b[0m\u001b[0;34m\u001b[0m\u001b[0;34m\u001b[0m\u001b[0m\n\u001b[1;32m    152\u001b[0m             values = lib.maybe_convert_numeric(\n\u001b[0;32m--> 153\u001b[0;31m                 \u001b[0mvalues\u001b[0m\u001b[0;34m,\u001b[0m \u001b[0mset\u001b[0m\u001b[0;34m(\u001b[0m\u001b[0;34m)\u001b[0m\u001b[0;34m,\u001b[0m \u001b[0mcoerce_numeric\u001b[0m\u001b[0;34m=\u001b[0m\u001b[0mcoerce_numeric\u001b[0m\u001b[0;34m\u001b[0m\u001b[0;34m\u001b[0m\u001b[0m\n\u001b[0m\u001b[1;32m    154\u001b[0m             )\n\u001b[1;32m    155\u001b[0m         \u001b[0;32mexcept\u001b[0m \u001b[0;34m(\u001b[0m\u001b[0mValueError\u001b[0m\u001b[0;34m,\u001b[0m \u001b[0mTypeError\u001b[0m\u001b[0;34m)\u001b[0m\u001b[0;34m:\u001b[0m\u001b[0;34m\u001b[0m\u001b[0;34m\u001b[0m\u001b[0m\n",
            "\u001b[0;32mpandas/_libs/lib.pyx\u001b[0m in \u001b[0;36mpandas._libs.lib.maybe_convert_numeric\u001b[0;34m()\u001b[0m\n",
            "\u001b[0;31mValueError\u001b[0m: Unable to parse string \" \" at position 488"
          ]
        }
      ]
    },
    {
      "cell_type": "markdown",
      "metadata": {
        "id": "BbJNNMt8dXmh"
      },
      "source": [
        "Some values seems to be not numbers but blank string"
      ]
    },
    {
      "cell_type": "code",
      "metadata": {
        "colab": {
          "base_uri": "https://localhost:8080/"
        },
        "id": "MRHBKApWdUzj",
        "outputId": "8761bef9-1a3e-4d4e-d034-12c8d028b36a"
      },
      "source": [
        "pd.to_numeric(df.TotalCharges, errors = 'coerce').isnull()"
      ],
      "execution_count": null,
      "outputs": [
        {
          "output_type": "execute_result",
          "data": {
            "text/plain": [
              "0       False\n",
              "1       False\n",
              "2       False\n",
              "3       False\n",
              "4       False\n",
              "        ...  \n",
              "7038    False\n",
              "7039    False\n",
              "7040    False\n",
              "7041    False\n",
              "7042    False\n",
              "Name: TotalCharges, Length: 7043, dtype: bool"
            ]
          },
          "metadata": {
            "tags": []
          },
          "execution_count": 8
        }
      ]
    },
    {
      "cell_type": "code",
      "metadata": {
        "colab": {
          "base_uri": "https://localhost:8080/",
          "height": 555
        },
        "id": "6xFhpHIMfN5c",
        "outputId": "bc9e4d58-6b16-4287-c33f-d185aa0c869b"
      },
      "source": [
        "df[pd.to_numeric(df.TotalCharges, errors = 'coerce').isnull()]"
      ],
      "execution_count": null,
      "outputs": [
        {
          "output_type": "execute_result",
          "data": {
            "text/html": [
              "<div>\n",
              "<style scoped>\n",
              "    .dataframe tbody tr th:only-of-type {\n",
              "        vertical-align: middle;\n",
              "    }\n",
              "\n",
              "    .dataframe tbody tr th {\n",
              "        vertical-align: top;\n",
              "    }\n",
              "\n",
              "    .dataframe thead th {\n",
              "        text-align: right;\n",
              "    }\n",
              "</style>\n",
              "<table border=\"1\" class=\"dataframe\">\n",
              "  <thead>\n",
              "    <tr style=\"text-align: right;\">\n",
              "      <th></th>\n",
              "      <th>gender</th>\n",
              "      <th>SeniorCitizen</th>\n",
              "      <th>Partner</th>\n",
              "      <th>Dependents</th>\n",
              "      <th>tenure</th>\n",
              "      <th>PhoneService</th>\n",
              "      <th>MultipleLines</th>\n",
              "      <th>InternetService</th>\n",
              "      <th>OnlineSecurity</th>\n",
              "      <th>OnlineBackup</th>\n",
              "      <th>DeviceProtection</th>\n",
              "      <th>TechSupport</th>\n",
              "      <th>StreamingTV</th>\n",
              "      <th>StreamingMovies</th>\n",
              "      <th>Contract</th>\n",
              "      <th>PaperlessBilling</th>\n",
              "      <th>PaymentMethod</th>\n",
              "      <th>MonthlyCharges</th>\n",
              "      <th>TotalCharges</th>\n",
              "      <th>Churn</th>\n",
              "    </tr>\n",
              "  </thead>\n",
              "  <tbody>\n",
              "    <tr>\n",
              "      <th>488</th>\n",
              "      <td>Female</td>\n",
              "      <td>0</td>\n",
              "      <td>Yes</td>\n",
              "      <td>Yes</td>\n",
              "      <td>0</td>\n",
              "      <td>No</td>\n",
              "      <td>No phone service</td>\n",
              "      <td>DSL</td>\n",
              "      <td>Yes</td>\n",
              "      <td>No</td>\n",
              "      <td>Yes</td>\n",
              "      <td>Yes</td>\n",
              "      <td>Yes</td>\n",
              "      <td>No</td>\n",
              "      <td>Two year</td>\n",
              "      <td>Yes</td>\n",
              "      <td>Bank transfer (automatic)</td>\n",
              "      <td>52.55</td>\n",
              "      <td></td>\n",
              "      <td>No</td>\n",
              "    </tr>\n",
              "    <tr>\n",
              "      <th>753</th>\n",
              "      <td>Male</td>\n",
              "      <td>0</td>\n",
              "      <td>No</td>\n",
              "      <td>Yes</td>\n",
              "      <td>0</td>\n",
              "      <td>Yes</td>\n",
              "      <td>No</td>\n",
              "      <td>No</td>\n",
              "      <td>No internet service</td>\n",
              "      <td>No internet service</td>\n",
              "      <td>No internet service</td>\n",
              "      <td>No internet service</td>\n",
              "      <td>No internet service</td>\n",
              "      <td>No internet service</td>\n",
              "      <td>Two year</td>\n",
              "      <td>No</td>\n",
              "      <td>Mailed check</td>\n",
              "      <td>20.25</td>\n",
              "      <td></td>\n",
              "      <td>No</td>\n",
              "    </tr>\n",
              "    <tr>\n",
              "      <th>936</th>\n",
              "      <td>Female</td>\n",
              "      <td>0</td>\n",
              "      <td>Yes</td>\n",
              "      <td>Yes</td>\n",
              "      <td>0</td>\n",
              "      <td>Yes</td>\n",
              "      <td>No</td>\n",
              "      <td>DSL</td>\n",
              "      <td>Yes</td>\n",
              "      <td>Yes</td>\n",
              "      <td>Yes</td>\n",
              "      <td>No</td>\n",
              "      <td>Yes</td>\n",
              "      <td>Yes</td>\n",
              "      <td>Two year</td>\n",
              "      <td>No</td>\n",
              "      <td>Mailed check</td>\n",
              "      <td>80.85</td>\n",
              "      <td></td>\n",
              "      <td>No</td>\n",
              "    </tr>\n",
              "    <tr>\n",
              "      <th>1082</th>\n",
              "      <td>Male</td>\n",
              "      <td>0</td>\n",
              "      <td>Yes</td>\n",
              "      <td>Yes</td>\n",
              "      <td>0</td>\n",
              "      <td>Yes</td>\n",
              "      <td>Yes</td>\n",
              "      <td>No</td>\n",
              "      <td>No internet service</td>\n",
              "      <td>No internet service</td>\n",
              "      <td>No internet service</td>\n",
              "      <td>No internet service</td>\n",
              "      <td>No internet service</td>\n",
              "      <td>No internet service</td>\n",
              "      <td>Two year</td>\n",
              "      <td>No</td>\n",
              "      <td>Mailed check</td>\n",
              "      <td>25.75</td>\n",
              "      <td></td>\n",
              "      <td>No</td>\n",
              "    </tr>\n",
              "    <tr>\n",
              "      <th>1340</th>\n",
              "      <td>Female</td>\n",
              "      <td>0</td>\n",
              "      <td>Yes</td>\n",
              "      <td>Yes</td>\n",
              "      <td>0</td>\n",
              "      <td>No</td>\n",
              "      <td>No phone service</td>\n",
              "      <td>DSL</td>\n",
              "      <td>Yes</td>\n",
              "      <td>Yes</td>\n",
              "      <td>Yes</td>\n",
              "      <td>Yes</td>\n",
              "      <td>Yes</td>\n",
              "      <td>No</td>\n",
              "      <td>Two year</td>\n",
              "      <td>No</td>\n",
              "      <td>Credit card (automatic)</td>\n",
              "      <td>56.05</td>\n",
              "      <td></td>\n",
              "      <td>No</td>\n",
              "    </tr>\n",
              "    <tr>\n",
              "      <th>3331</th>\n",
              "      <td>Male</td>\n",
              "      <td>0</td>\n",
              "      <td>Yes</td>\n",
              "      <td>Yes</td>\n",
              "      <td>0</td>\n",
              "      <td>Yes</td>\n",
              "      <td>No</td>\n",
              "      <td>No</td>\n",
              "      <td>No internet service</td>\n",
              "      <td>No internet service</td>\n",
              "      <td>No internet service</td>\n",
              "      <td>No internet service</td>\n",
              "      <td>No internet service</td>\n",
              "      <td>No internet service</td>\n",
              "      <td>Two year</td>\n",
              "      <td>No</td>\n",
              "      <td>Mailed check</td>\n",
              "      <td>19.85</td>\n",
              "      <td></td>\n",
              "      <td>No</td>\n",
              "    </tr>\n",
              "    <tr>\n",
              "      <th>3826</th>\n",
              "      <td>Male</td>\n",
              "      <td>0</td>\n",
              "      <td>Yes</td>\n",
              "      <td>Yes</td>\n",
              "      <td>0</td>\n",
              "      <td>Yes</td>\n",
              "      <td>Yes</td>\n",
              "      <td>No</td>\n",
              "      <td>No internet service</td>\n",
              "      <td>No internet service</td>\n",
              "      <td>No internet service</td>\n",
              "      <td>No internet service</td>\n",
              "      <td>No internet service</td>\n",
              "      <td>No internet service</td>\n",
              "      <td>Two year</td>\n",
              "      <td>No</td>\n",
              "      <td>Mailed check</td>\n",
              "      <td>25.35</td>\n",
              "      <td></td>\n",
              "      <td>No</td>\n",
              "    </tr>\n",
              "    <tr>\n",
              "      <th>4380</th>\n",
              "      <td>Female</td>\n",
              "      <td>0</td>\n",
              "      <td>Yes</td>\n",
              "      <td>Yes</td>\n",
              "      <td>0</td>\n",
              "      <td>Yes</td>\n",
              "      <td>No</td>\n",
              "      <td>No</td>\n",
              "      <td>No internet service</td>\n",
              "      <td>No internet service</td>\n",
              "      <td>No internet service</td>\n",
              "      <td>No internet service</td>\n",
              "      <td>No internet service</td>\n",
              "      <td>No internet service</td>\n",
              "      <td>Two year</td>\n",
              "      <td>No</td>\n",
              "      <td>Mailed check</td>\n",
              "      <td>20.00</td>\n",
              "      <td></td>\n",
              "      <td>No</td>\n",
              "    </tr>\n",
              "    <tr>\n",
              "      <th>5218</th>\n",
              "      <td>Male</td>\n",
              "      <td>0</td>\n",
              "      <td>Yes</td>\n",
              "      <td>Yes</td>\n",
              "      <td>0</td>\n",
              "      <td>Yes</td>\n",
              "      <td>No</td>\n",
              "      <td>No</td>\n",
              "      <td>No internet service</td>\n",
              "      <td>No internet service</td>\n",
              "      <td>No internet service</td>\n",
              "      <td>No internet service</td>\n",
              "      <td>No internet service</td>\n",
              "      <td>No internet service</td>\n",
              "      <td>One year</td>\n",
              "      <td>Yes</td>\n",
              "      <td>Mailed check</td>\n",
              "      <td>19.70</td>\n",
              "      <td></td>\n",
              "      <td>No</td>\n",
              "    </tr>\n",
              "    <tr>\n",
              "      <th>6670</th>\n",
              "      <td>Female</td>\n",
              "      <td>0</td>\n",
              "      <td>Yes</td>\n",
              "      <td>Yes</td>\n",
              "      <td>0</td>\n",
              "      <td>Yes</td>\n",
              "      <td>Yes</td>\n",
              "      <td>DSL</td>\n",
              "      <td>No</td>\n",
              "      <td>Yes</td>\n",
              "      <td>Yes</td>\n",
              "      <td>Yes</td>\n",
              "      <td>Yes</td>\n",
              "      <td>No</td>\n",
              "      <td>Two year</td>\n",
              "      <td>No</td>\n",
              "      <td>Mailed check</td>\n",
              "      <td>73.35</td>\n",
              "      <td></td>\n",
              "      <td>No</td>\n",
              "    </tr>\n",
              "    <tr>\n",
              "      <th>6754</th>\n",
              "      <td>Male</td>\n",
              "      <td>0</td>\n",
              "      <td>No</td>\n",
              "      <td>Yes</td>\n",
              "      <td>0</td>\n",
              "      <td>Yes</td>\n",
              "      <td>Yes</td>\n",
              "      <td>DSL</td>\n",
              "      <td>Yes</td>\n",
              "      <td>Yes</td>\n",
              "      <td>No</td>\n",
              "      <td>Yes</td>\n",
              "      <td>No</td>\n",
              "      <td>No</td>\n",
              "      <td>Two year</td>\n",
              "      <td>Yes</td>\n",
              "      <td>Bank transfer (automatic)</td>\n",
              "      <td>61.90</td>\n",
              "      <td></td>\n",
              "      <td>No</td>\n",
              "    </tr>\n",
              "  </tbody>\n",
              "</table>\n",
              "</div>"
            ],
            "text/plain": [
              "      gender  SeniorCitizen Partner  ... MonthlyCharges  TotalCharges Churn\n",
              "488   Female              0     Yes  ...          52.55                  No\n",
              "753     Male              0      No  ...          20.25                  No\n",
              "936   Female              0     Yes  ...          80.85                  No\n",
              "1082    Male              0     Yes  ...          25.75                  No\n",
              "1340  Female              0     Yes  ...          56.05                  No\n",
              "3331    Male              0     Yes  ...          19.85                  No\n",
              "3826    Male              0     Yes  ...          25.35                  No\n",
              "4380  Female              0     Yes  ...          20.00                  No\n",
              "5218    Male              0     Yes  ...          19.70                  No\n",
              "6670  Female              0     Yes  ...          73.35                  No\n",
              "6754    Male              0      No  ...          61.90                  No\n",
              "\n",
              "[11 rows x 20 columns]"
            ]
          },
          "metadata": {
            "tags": []
          },
          "execution_count": 9
        }
      ]
    },
    {
      "cell_type": "code",
      "metadata": {
        "colab": {
          "base_uri": "https://localhost:8080/"
        },
        "id": "XUc6CbZEdV_r",
        "outputId": "168ca26f-078c-4aa6-ec86-59026978d5ed"
      },
      "source": [
        "df.shape"
      ],
      "execution_count": null,
      "outputs": [
        {
          "output_type": "execute_result",
          "data": {
            "text/plain": [
              "(7043, 20)"
            ]
          },
          "metadata": {
            "tags": []
          },
          "execution_count": 10
        }
      ]
    },
    {
      "cell_type": "code",
      "metadata": {
        "colab": {
          "base_uri": "https://localhost:8080/"
        },
        "id": "L5a4tsMtfnaP",
        "outputId": "19a14c72-0a1e-49c9-f2e2-86ceab0ca965"
      },
      "source": [
        "df[df.TotalCharges != ' '].shape"
      ],
      "execution_count": null,
      "outputs": [
        {
          "output_type": "execute_result",
          "data": {
            "text/plain": [
              "(7032, 20)"
            ]
          },
          "metadata": {
            "tags": []
          },
          "execution_count": 11
        }
      ]
    },
    {
      "cell_type": "code",
      "metadata": {
        "colab": {
          "base_uri": "https://localhost:8080/"
        },
        "id": "E3qO8UJffuRG",
        "outputId": "1f939818-d79b-4b17-e871-9bd684e59b69"
      },
      "source": [
        "# dropping the rows where TotalCharges value is null\n",
        "df1 = df[df.TotalCharges != ' ']\n",
        "df1.shape"
      ],
      "execution_count": null,
      "outputs": [
        {
          "output_type": "execute_result",
          "data": {
            "text/plain": [
              "(7032, 20)"
            ]
          },
          "metadata": {
            "tags": []
          },
          "execution_count": 12
        }
      ]
    },
    {
      "cell_type": "code",
      "metadata": {
        "colab": {
          "base_uri": "https://localhost:8080/"
        },
        "id": "RzdNBBLfggyj",
        "outputId": "87516b20-4c1c-465d-f58f-edc9d7fbeac0"
      },
      "source": [
        "df1.dtypes"
      ],
      "execution_count": null,
      "outputs": [
        {
          "output_type": "execute_result",
          "data": {
            "text/plain": [
              "gender               object\n",
              "SeniorCitizen         int64\n",
              "Partner              object\n",
              "Dependents           object\n",
              "tenure                int64\n",
              "PhoneService         object\n",
              "MultipleLines        object\n",
              "InternetService      object\n",
              "OnlineSecurity       object\n",
              "OnlineBackup         object\n",
              "DeviceProtection     object\n",
              "TechSupport          object\n",
              "StreamingTV          object\n",
              "StreamingMovies      object\n",
              "Contract             object\n",
              "PaperlessBilling     object\n",
              "PaymentMethod        object\n",
              "MonthlyCharges      float64\n",
              "TotalCharges         object\n",
              "Churn                object\n",
              "dtype: object"
            ]
          },
          "metadata": {
            "tags": []
          },
          "execution_count": 13
        }
      ]
    },
    {
      "cell_type": "markdown",
      "metadata": {
        "id": "W8tae3k88R0i"
      },
      "source": [
        "**Visualising The Data**"
      ]
    },
    {
      "cell_type": "code",
      "metadata": {
        "colab": {
          "base_uri": "https://localhost:8080/",
          "height": 368
        },
        "id": "oI4TwN8GlZw3",
        "outputId": "ba96a781-bf06-4d9e-8a46-676df2973d43"
      },
      "source": [
        "# visualising the tenure with number of customers\n",
        "tenure_churn_no = df1[df1.Churn == 'No'].tenure\n",
        "tenure_churn_yes = df1[df1.Churn == 'Yes'].tenure\n",
        "\n",
        "plt.xlabel('tenure')\n",
        "plt.ylabel('Number of Customers')\n",
        "plt.title(\"Customer Churn Prediction Visualization\")\n",
        "\n",
        "plt.hist([tenure_churn_yes, tenure_churn_no], rwidth = 0.95, color = ['green', 'red'], label = ['Churn = Yes', 'Churn = No'])\n",
        "plt.legend()"
      ],
      "execution_count": null,
      "outputs": [
        {
          "output_type": "stream",
          "text": [
            "/usr/local/lib/python3.7/dist-packages/numpy/core/_asarray.py:83: VisibleDeprecationWarning: Creating an ndarray from ragged nested sequences (which is a list-or-tuple of lists-or-tuples-or ndarrays with different lengths or shapes) is deprecated. If you meant to do this, you must specify 'dtype=object' when creating the ndarray\n",
            "  return array(a, dtype, copy=False, order=order)\n"
          ],
          "name": "stderr"
        },
        {
          "output_type": "execute_result",
          "data": {
            "text/plain": [
              "<matplotlib.legend.Legend at 0x7fb62d326550>"
            ]
          },
          "metadata": {
            "tags": []
          },
          "execution_count": 14
        },
        {
          "output_type": "display_data",
          "data": {
            "image/png": "[encoded data removed]",
            "text/plain": [
              "<Figure size 432x288 with 1 Axes>"
            ]
          },
          "metadata": {
            "tags": [],
            "needs_background": "light"
          }
        }
      ]
    },
    {
      "cell_type": "markdown",
      "metadata": {
        "id": "BStQwqGJmzQy"
      },
      "source": [
        "So, we can see that, people having high tenure are less likely to leave"
      ]
    },
    {
      "cell_type": "code",
      "metadata": {
        "colab": {
          "base_uri": "https://localhost:8080/",
          "height": 368
        },
        "id": "33HV8DWmmeCw",
        "outputId": "f16dfdff-25e3-49f5-bb18-a251d7bbf055"
      },
      "source": [
        "mc_churn_no = df1[df1.Churn == 'No'].MonthlyCharges\n",
        "mc_churn_yes = df1[df1.Churn == 'Yes'].MonthlyCharges\n",
        "\n",
        "plt.xlabel('Monthly Charges')\n",
        "plt.ylabel('Number of Customers')\n",
        "plt.title(\"Customer Churn Prediction Visualization\")\n",
        "\n",
        "plt.hist([mc_churn_yes, mc_churn_no], rwidth = 0.95, color = ['green', 'red'], label = ['Churn = Yes', 'Churn = No'])\n",
        "plt.legend()"
      ],
      "execution_count": null,
      "outputs": [
        {
          "output_type": "stream",
          "text": [
            "/usr/local/lib/python3.7/dist-packages/numpy/core/_asarray.py:83: VisibleDeprecationWarning: Creating an ndarray from ragged nested sequences (which is a list-or-tuple of lists-or-tuples-or ndarrays with different lengths or shapes) is deprecated. If you meant to do this, you must specify 'dtype=object' when creating the ndarray\n",
            "  return array(a, dtype, copy=False, order=order)\n"
          ],
          "name": "stderr"
        },
        {
          "output_type": "execute_result",
          "data": {
            "text/plain": [
              "<matplotlib.legend.Legend at 0x7fb62cd96910>"
            ]
          },
          "metadata": {
            "tags": []
          },
          "execution_count": 15
        },
        {
          "output_type": "display_data",
          "data": {
            "image/png": "[encoded data removed]",
            "text/plain": [
              "<Figure size 432x288 with 1 Axes>"
            ]
          },
          "metadata": {
            "tags": [],
            "needs_background": "light"
          }
        }
      ]
    },
    {
      "cell_type": "markdown",
      "metadata": {
        "id": "zeruyn1Dmvh9"
      },
      "source": [
        "So, we can see that, persons having high monthly charges are more likely to leave"
      ]
    },
    {
      "cell_type": "markdown",
      "metadata": {
        "id": "rLEannzZ9M17"
      },
      "source": [
        "**Data Preprocessing**"
      ]
    },
    {
      "cell_type": "code",
      "metadata": {
        "id": "dLwzr9RhmXXc"
      },
      "source": [
        "# printing the unique values in each column\n",
        "def print_unique_col_values(df):\n",
        "  for column in df:\n",
        "    if df[column].dtype == 'object':\n",
        "      print(f'{column}: {df[column].unique()}')"
      ],
      "execution_count": null,
      "outputs": []
    },
    {
      "cell_type": "code",
      "metadata": {
        "colab": {
          "base_uri": "https://localhost:8080/"
        },
        "id": "NigBCpdbUoNZ",
        "outputId": "e0881585-f49e-4cd9-94c0-11ce5f128a7d"
      },
      "source": [
        "print_unique_col_values(df1)"
      ],
      "execution_count": null,
      "outputs": [
        {
          "output_type": "stream",
          "text": [
            "gender: ['Female' 'Male']\n",
            "Partner: ['Yes' 'No']\n",
            "Dependents: ['No' 'Yes']\n",
            "PhoneService: ['No' 'Yes']\n",
            "MultipleLines: ['No phone service' 'No' 'Yes']\n",
            "InternetService: ['DSL' 'Fiber optic' 'No']\n",
            "OnlineSecurity: ['No' 'Yes' 'No internet service']\n",
            "OnlineBackup: ['Yes' 'No' 'No internet service']\n",
            "DeviceProtection: ['No' 'Yes' 'No internet service']\n",
            "TechSupport: ['No' 'Yes' 'No internet service']\n",
            "StreamingTV: ['No' 'Yes' 'No internet service']\n",
            "StreamingMovies: ['No' 'Yes' 'No internet service']\n",
            "Contract: ['Month-to-month' 'One year' 'Two year']\n",
            "PaperlessBilling: ['Yes' 'No']\n",
            "PaymentMethod: ['Electronic check' 'Mailed check' 'Bank transfer (automatic)'\n",
            " 'Credit card (automatic)']\n",
            "TotalCharges: ['29.85' '1889.5' '108.15' ... '346.45' '306.6' '6844.5']\n",
            "Churn: ['No' 'Yes']\n"
          ],
          "name": "stdout"
        }
      ]
    },
    {
      "cell_type": "markdown",
      "metadata": {
        "id": "lixxs2uLYMDZ"
      },
      "source": [
        "**Convert Yes and No to 1 or 0**"
      ]
    },
    {
      "cell_type": "code",
      "metadata": {
        "colab": {
          "base_uri": "https://localhost:8080/"
        },
        "id": "ssOB_wKXU2up",
        "outputId": "65c0e280-180a-436f-bc95-4f56d7efa884"
      },
      "source": [
        "# the values such as 'No internet service' and 'No phone service' are considered as 'No'\n",
        "# so converting these values to 'No'\n",
        "df1.replace('No internet service', 'No', inplace = True)\n",
        "df1.replace('No phone service', 'No', inplace = True)"
      ],
      "execution_count": null,
      "outputs": [
        {
          "output_type": "stream",
          "text": [
            "/usr/local/lib/python3.7/dist-packages/pandas/core/frame.py:4389: SettingWithCopyWarning: \n",
            "A value is trying to be set on a copy of a slice from a DataFrame\n",
            "\n",
            "See the caveats in the documentation: https://pandas.pydata.org/pandas-docs/stable/user_guide/indexing.html#returning-a-view-versus-a-copy\n",
            "  method=method,\n"
          ],
          "name": "stderr"
        }
      ]
    },
    {
      "cell_type": "code",
      "metadata": {
        "colab": {
          "base_uri": "https://localhost:8080/"
        },
        "id": "KMLfmEs1VcDm",
        "outputId": "40ee8fdb-ec2c-44c7-9f91-8318cc41339f"
      },
      "source": [
        "print_unique_col_values(df1)"
      ],
      "execution_count": null,
      "outputs": [
        {
          "output_type": "stream",
          "text": [
            "gender: ['Female' 'Male']\n",
            "Partner: ['Yes' 'No']\n",
            "Dependents: ['No' 'Yes']\n",
            "PhoneService: ['No' 'Yes']\n",
            "MultipleLines: ['No' 'Yes']\n",
            "InternetService: ['DSL' 'Fiber optic' 'No']\n",
            "OnlineSecurity: ['No' 'Yes']\n",
            "OnlineBackup: ['Yes' 'No']\n",
            "DeviceProtection: ['No' 'Yes']\n",
            "TechSupport: ['No' 'Yes']\n",
            "StreamingTV: ['No' 'Yes']\n",
            "StreamingMovies: ['No' 'Yes']\n",
            "Contract: ['Month-to-month' 'One year' 'Two year']\n",
            "PaperlessBilling: ['Yes' 'No']\n",
            "PaymentMethod: ['Electronic check' 'Mailed check' 'Bank transfer (automatic)'\n",
            " 'Credit card (automatic)']\n",
            "TotalCharges: ['29.85' '1889.5' '108.15' ... '346.45' '306.6' '6844.5']\n",
            "Churn: ['No' 'Yes']\n"
          ],
          "name": "stdout"
        }
      ]
    },
    {
      "cell_type": "code",
      "metadata": {
        "colab": {
          "base_uri": "https://localhost:8080/"
        },
        "id": "SRqJTcO1VlkE",
        "outputId": "6183db21-484b-4752-ee58-0915cf50276a"
      },
      "source": [
        "yes_no_columns = ['Partner', 'Dependents', 'PhoneService', 'MultipleLines', 'OnlineSecurity', 'OnlineBackup', 'DeviceProtection', 'TechSupport', 'StreamingTV', 'StreamingMovies', 'PaperlessBilling', 'Churn']\n",
        "for column in yes_no_columns:\n",
        "  df1[column].replace({'Yes': 1, 'No': 0}, inplace = True)"
      ],
      "execution_count": null,
      "outputs": [
        {
          "output_type": "stream",
          "text": [
            "/usr/local/lib/python3.7/dist-packages/pandas/core/series.py:4582: SettingWithCopyWarning: \n",
            "A value is trying to be set on a copy of a slice from a DataFrame\n",
            "\n",
            "See the caveats in the documentation: https://pandas.pydata.org/pandas-docs/stable/user_guide/indexing.html#returning-a-view-versus-a-copy\n",
            "  method=method,\n"
          ],
          "name": "stderr"
        }
      ]
    },
    {
      "cell_type": "code",
      "metadata": {
        "colab": {
          "base_uri": "https://localhost:8080/"
        },
        "id": "6_KNXDObXPt1",
        "outputId": "9494a28f-c74c-45fe-a409-bb598d1bb199"
      },
      "source": [
        "for col in df1:\n",
        "  print(f'{col}: {df1[col].unique()}')"
      ],
      "execution_count": null,
      "outputs": [
        {
          "output_type": "stream",
          "text": [
            "gender: ['Female' 'Male']\n",
            "SeniorCitizen: [0 1]\n",
            "Partner: [1 0]\n",
            "Dependents: [0 1]\n",
            "tenure: [ 1 34  2 45  8 22 10 28 62 13 16 58 49 25 69 52 71 21 12 30 47 72 17 27\n",
            "  5 46 11 70 63 43 15 60 18 66  9  3 31 50 64 56  7 42 35 48 29 65 38 68\n",
            " 32 55 37 36 41  6  4 33 67 23 57 61 14 20 53 40 59 24 44 19 54 51 26 39]\n",
            "PhoneService: [0 1]\n",
            "MultipleLines: [0 1]\n",
            "InternetService: ['DSL' 'Fiber optic' 'No']\n",
            "OnlineSecurity: [0 1]\n",
            "OnlineBackup: [1 0]\n",
            "DeviceProtection: [0 1]\n",
            "TechSupport: [0 1]\n",
            "StreamingTV: [0 1]\n",
            "StreamingMovies: [0 1]\n",
            "Contract: ['Month-to-month' 'One year' 'Two year']\n",
            "PaperlessBilling: [1 0]\n",
            "PaymentMethod: ['Electronic check' 'Mailed check' 'Bank transfer (automatic)'\n",
            " 'Credit card (automatic)']\n",
            "MonthlyCharges: [29.85 56.95 53.85 ... 63.1  44.2  78.7 ]\n",
            "TotalCharges: ['29.85' '1889.5' '108.15' ... '346.45' '306.6' '6844.5']\n",
            "Churn: [0 1]\n"
          ],
          "name": "stdout"
        }
      ]
    },
    {
      "cell_type": "code",
      "metadata": {
        "colab": {
          "base_uri": "https://localhost:8080/"
        },
        "id": "jp7Ju4wUXkpZ",
        "outputId": "f084c46e-c6d7-4011-9ed5-110db62d5ebd"
      },
      "source": [
        "# converting Male to 0 and Female ot 1\n",
        "df1['gender'].replace({'Female': 1, 'Male': 0}, inplace = True)"
      ],
      "execution_count": null,
      "outputs": [
        {
          "output_type": "stream",
          "text": [
            "/usr/local/lib/python3.7/dist-packages/pandas/core/series.py:4582: SettingWithCopyWarning: \n",
            "A value is trying to be set on a copy of a slice from a DataFrame\n",
            "\n",
            "See the caveats in the documentation: https://pandas.pydata.org/pandas-docs/stable/user_guide/indexing.html#returning-a-view-versus-a-copy\n",
            "  method=method,\n"
          ],
          "name": "stderr"
        }
      ]
    },
    {
      "cell_type": "code",
      "metadata": {
        "colab": {
          "base_uri": "https://localhost:8080/"
        },
        "id": "Srhhj4xIXxzO",
        "outputId": "36ed37bf-b8fe-4cc4-a282-0329a7da2510"
      },
      "source": [
        "df1['gender'].unique()"
      ],
      "execution_count": null,
      "outputs": [
        {
          "output_type": "execute_result",
          "data": {
            "text/plain": [
              "array([1, 0])"
            ]
          },
          "metadata": {
            "tags": []
          },
          "execution_count": 23
        }
      ]
    },
    {
      "cell_type": "markdown",
      "metadata": {
        "id": "U0_bCT7fYYyU"
      },
      "source": [
        "**One hot encoding for categorical columns**"
      ]
    },
    {
      "cell_type": "code",
      "metadata": {
        "colab": {
          "base_uri": "https://localhost:8080/"
        },
        "id": "thCyjPG6YeiA",
        "outputId": "db5d2688-d47b-4053-e2f2-069f614ad1ef"
      },
      "source": [
        "df2 = pd.get_dummies(data = df1, columns = ['InternetService', 'Contract', 'PaymentMethod'])\n",
        "df2.columns"
      ],
      "execution_count": null,
      "outputs": [
        {
          "output_type": "execute_result",
          "data": {
            "text/plain": [
              "Index(['gender', 'SeniorCitizen', 'Partner', 'Dependents', 'tenure',\n",
              "       'PhoneService', 'MultipleLines', 'OnlineSecurity', 'OnlineBackup',\n",
              "       'DeviceProtection', 'TechSupport', 'StreamingTV', 'StreamingMovies',\n",
              "       'PaperlessBilling', 'MonthlyCharges', 'TotalCharges', 'Churn',\n",
              "       'InternetService_DSL', 'InternetService_Fiber optic',\n",
              "       'InternetService_No', 'Contract_Month-to-month', 'Contract_One year',\n",
              "       'Contract_Two year', 'PaymentMethod_Bank transfer (automatic)',\n",
              "       'PaymentMethod_Credit card (automatic)',\n",
              "       'PaymentMethod_Electronic check', 'PaymentMethod_Mailed check'],\n",
              "      dtype='object')"
            ]
          },
          "metadata": {
            "tags": []
          },
          "execution_count": 24
        }
      ]
    },
    {
      "cell_type": "code",
      "metadata": {
        "colab": {
          "base_uri": "https://localhost:8080/"
        },
        "id": "Pd4gML21ZKQW",
        "outputId": "0c2e5743-c03a-4af4-bc4a-8656caa0265d"
      },
      "source": [
        "df2.dtypes"
      ],
      "execution_count": null,
      "outputs": [
        {
          "output_type": "execute_result",
          "data": {
            "text/plain": [
              "gender                                       int64\n",
              "SeniorCitizen                                int64\n",
              "Partner                                      int64\n",
              "Dependents                                   int64\n",
              "tenure                                       int64\n",
              "PhoneService                                 int64\n",
              "MultipleLines                                int64\n",
              "OnlineSecurity                               int64\n",
              "OnlineBackup                                 int64\n",
              "DeviceProtection                             int64\n",
              "TechSupport                                  int64\n",
              "StreamingTV                                  int64\n",
              "StreamingMovies                              int64\n",
              "PaperlessBilling                             int64\n",
              "MonthlyCharges                             float64\n",
              "TotalCharges                                object\n",
              "Churn                                        int64\n",
              "InternetService_DSL                          uint8\n",
              "InternetService_Fiber optic                  uint8\n",
              "InternetService_No                           uint8\n",
              "Contract_Month-to-month                      uint8\n",
              "Contract_One year                            uint8\n",
              "Contract_Two year                            uint8\n",
              "PaymentMethod_Bank transfer (automatic)      uint8\n",
              "PaymentMethod_Credit card (automatic)        uint8\n",
              "PaymentMethod_Electronic check               uint8\n",
              "PaymentMethod_Mailed check                   uint8\n",
              "dtype: object"
            ]
          },
          "metadata": {
            "tags": []
          },
          "execution_count": 25
        }
      ]
    },
    {
      "cell_type": "code",
      "metadata": {
        "id": "vvnjfOafZcgV"
      },
      "source": [
        "df2.TotalCharges = pd.to_numeric(df2.TotalCharges)"
      ],
      "execution_count": null,
      "outputs": []
    },
    {
      "cell_type": "code",
      "metadata": {
        "colab": {
          "base_uri": "https://localhost:8080/"
        },
        "id": "ZNQyccdKZlK5",
        "outputId": "812527a1-9ae0-40c4-8116-9af6937f4cd4"
      },
      "source": [
        "df2.TotalCharges.dtype"
      ],
      "execution_count": null,
      "outputs": [
        {
          "output_type": "execute_result",
          "data": {
            "text/plain": [
              "dtype('float64')"
            ]
          },
          "metadata": {
            "tags": []
          },
          "execution_count": 27
        }
      ]
    },
    {
      "cell_type": "code",
      "metadata": {
        "colab": {
          "base_uri": "https://localhost:8080/",
          "height": 254
        },
        "id": "F_zeT2LaZp89",
        "outputId": "f6729a23-842e-4719-96aa-7ccf177206ba"
      },
      "source": [
        "df2.head()"
      ],
      "execution_count": null,
      "outputs": [
        {
          "output_type": "execute_result",
          "data": {
            "text/html": [
              "<div>\n",
              "<style scoped>\n",
              "    .dataframe tbody tr th:only-of-type {\n",
              "        vertical-align: middle;\n",
              "    }\n",
              "\n",
              "    .dataframe tbody tr th {\n",
              "        vertical-align: top;\n",
              "    }\n",
              "\n",
              "    .dataframe thead th {\n",
              "        text-align: right;\n",
              "    }\n",
              "</style>\n",
              "<table border=\"1\" class=\"dataframe\">\n",
              "  <thead>\n",
              "    <tr style=\"text-align: right;\">\n",
              "      <th></th>\n",
              "      <th>gender</th>\n",
              "      <th>SeniorCitizen</th>\n",
              "      <th>Partner</th>\n",
              "      <th>Dependents</th>\n",
              "      <th>tenure</th>\n",
              "      <th>PhoneService</th>\n",
              "      <th>MultipleLines</th>\n",
              "      <th>OnlineSecurity</th>\n",
              "      <th>OnlineBackup</th>\n",
              "      <th>DeviceProtection</th>\n",
              "      <th>TechSupport</th>\n",
              "      <th>StreamingTV</th>\n",
              "      <th>StreamingMovies</th>\n",
              "      <th>PaperlessBilling</th>\n",
              "      <th>MonthlyCharges</th>\n",
              "      <th>TotalCharges</th>\n",
              "      <th>Churn</th>\n",
              "      <th>InternetService_DSL</th>\n",
              "      <th>InternetService_Fiber optic</th>\n",
              "      <th>InternetService_No</th>\n",
              "      <th>Contract_Month-to-month</th>\n",
              "      <th>Contract_One year</th>\n",
              "      <th>Contract_Two year</th>\n",
              "      <th>PaymentMethod_Bank transfer (automatic)</th>\n",
              "      <th>PaymentMethod_Credit card (automatic)</th>\n",
              "      <th>PaymentMethod_Electronic check</th>\n",
              "      <th>PaymentMethod_Mailed check</th>\n",
              "    </tr>\n",
              "  </thead>\n",
              "  <tbody>\n",
              "    <tr>\n",
              "      <th>0</th>\n",
              "      <td>1</td>\n",
              "      <td>0</td>\n",
              "      <td>1</td>\n",
              "      <td>0</td>\n",
              "      <td>1</td>\n",
              "      <td>0</td>\n",
              "      <td>0</td>\n",
              "      <td>0</td>\n",
              "      <td>1</td>\n",
              "      <td>0</td>\n",
              "      <td>0</td>\n",
              "      <td>0</td>\n",
              "      <td>0</td>\n",
              "      <td>1</td>\n",
              "      <td>29.85</td>\n",
              "      <td>29.85</td>\n",
              "      <td>0</td>\n",
              "      <td>1</td>\n",
              "      <td>0</td>\n",
              "      <td>0</td>\n",
              "      <td>1</td>\n",
              "      <td>0</td>\n",
              "      <td>0</td>\n",
              "      <td>0</td>\n",
              "      <td>0</td>\n",
              "      <td>1</td>\n",
              "      <td>0</td>\n",
              "    </tr>\n",
              "    <tr>\n",
              "      <th>1</th>\n",
              "      <td>0</td>\n",
              "      <td>0</td>\n",
              "      <td>0</td>\n",
              "      <td>0</td>\n",
              "      <td>34</td>\n",
              "      <td>1</td>\n",
              "      <td>0</td>\n",
              "      <td>1</td>\n",
              "      <td>0</td>\n",
              "      <td>1</td>\n",
              "      <td>0</td>\n",
              "      <td>0</td>\n",
              "      <td>0</td>\n",
              "      <td>0</td>\n",
              "      <td>56.95</td>\n",
              "      <td>1889.50</td>\n",
              "      <td>0</td>\n",
              "      <td>1</td>\n",
              "      <td>0</td>\n",
              "      <td>0</td>\n",
              "      <td>0</td>\n",
              "      <td>1</td>\n",
              "      <td>0</td>\n",
              "      <td>0</td>\n",
              "      <td>0</td>\n",
              "      <td>0</td>\n",
              "      <td>1</td>\n",
              "    </tr>\n",
              "    <tr>\n",
              "      <th>2</th>\n",
              "      <td>0</td>\n",
              "      <td>0</td>\n",
              "      <td>0</td>\n",
              "      <td>0</td>\n",
              "      <td>2</td>\n",
              "      <td>1</td>\n",
              "      <td>0</td>\n",
              "      <td>1</td>\n",
              "      <td>1</td>\n",
              "      <td>0</td>\n",
              "      <td>0</td>\n",
              "      <td>0</td>\n",
              "      <td>0</td>\n",
              "      <td>1</td>\n",
              "      <td>53.85</td>\n",
              "      <td>108.15</td>\n",
              "      <td>1</td>\n",
              "      <td>1</td>\n",
              "      <td>0</td>\n",
              "      <td>0</td>\n",
              "      <td>1</td>\n",
              "      <td>0</td>\n",
              "      <td>0</td>\n",
              "      <td>0</td>\n",
              "      <td>0</td>\n",
              "      <td>0</td>\n",
              "      <td>1</td>\n",
              "    </tr>\n",
              "    <tr>\n",
              "      <th>3</th>\n",
              "      <td>0</td>\n",
              "      <td>0</td>\n",
              "      <td>0</td>\n",
              "      <td>0</td>\n",
              "      <td>45</td>\n",
              "      <td>0</td>\n",
              "      <td>0</td>\n",
              "      <td>1</td>\n",
              "      <td>0</td>\n",
              "      <td>1</td>\n",
              "      <td>1</td>\n",
              "      <td>0</td>\n",
              "      <td>0</td>\n",
              "      <td>0</td>\n",
              "      <td>42.30</td>\n",
              "      <td>1840.75</td>\n",
              "      <td>0</td>\n",
              "      <td>1</td>\n",
              "      <td>0</td>\n",
              "      <td>0</td>\n",
              "      <td>0</td>\n",
              "      <td>1</td>\n",
              "      <td>0</td>\n",
              "      <td>1</td>\n",
              "      <td>0</td>\n",
              "      <td>0</td>\n",
              "      <td>0</td>\n",
              "    </tr>\n",
              "    <tr>\n",
              "      <th>4</th>\n",
              "      <td>1</td>\n",
              "      <td>0</td>\n",
              "      <td>0</td>\n",
              "      <td>0</td>\n",
              "      <td>2</td>\n",
              "      <td>1</td>\n",
              "      <td>0</td>\n",
              "      <td>0</td>\n",
              "      <td>0</td>\n",
              "      <td>0</td>\n",
              "      <td>0</td>\n",
              "      <td>0</td>\n",
              "      <td>0</td>\n",
              "      <td>1</td>\n",
              "      <td>70.70</td>\n",
              "      <td>151.65</td>\n",
              "      <td>1</td>\n",
              "      <td>0</td>\n",
              "      <td>1</td>\n",
              "      <td>0</td>\n",
              "      <td>1</td>\n",
              "      <td>0</td>\n",
              "      <td>0</td>\n",
              "      <td>0</td>\n",
              "      <td>0</td>\n",
              "      <td>1</td>\n",
              "      <td>0</td>\n",
              "    </tr>\n",
              "  </tbody>\n",
              "</table>\n",
              "</div>"
            ],
            "text/plain": [
              "   gender  ...  PaymentMethod_Mailed check\n",
              "0       1  ...                           0\n",
              "1       0  ...                           1\n",
              "2       0  ...                           1\n",
              "3       0  ...                           0\n",
              "4       1  ...                           0\n",
              "\n",
              "[5 rows x 27 columns]"
            ]
          },
          "metadata": {
            "tags": []
          },
          "execution_count": 28
        }
      ]
    },
    {
      "cell_type": "markdown",
      "metadata": {
        "id": "iv0vaNCrZ2XO"
      },
      "source": [
        "**Scaling the values of tenure, MonthlyCharges, TotalCharges**"
      ]
    },
    {
      "cell_type": "code",
      "metadata": {
        "id": "PPu4ZXr4aF4G"
      },
      "source": [
        "col_scale = ['tenure', 'MonthlyCharges', 'TotalCharges']\n",
        "\n",
        "from sklearn.preprocessing import MinMaxScaler\n",
        "scaler = MinMaxScaler()\n",
        "df2[col_scale] = scaler.fit_transform(df2[col_scale])"
      ],
      "execution_count": null,
      "outputs": []
    },
    {
      "cell_type": "code",
      "metadata": {
        "colab": {
          "base_uri": "https://localhost:8080/",
          "height": 254
        },
        "id": "hc4Fu5-ianJ0",
        "outputId": "26d26e0d-734c-47b5-ab16-7c9954e1a673"
      },
      "source": [
        "df2.head()"
      ],
      "execution_count": null,
      "outputs": [
        {
          "output_type": "execute_result",
          "data": {
            "text/html": [
              "<div>\n",
              "<style scoped>\n",
              "    .dataframe tbody tr th:only-of-type {\n",
              "        vertical-align: middle;\n",
              "    }\n",
              "\n",
              "    .dataframe tbody tr th {\n",
              "        vertical-align: top;\n",
              "    }\n",
              "\n",
              "    .dataframe thead th {\n",
              "        text-align: right;\n",
              "    }\n",
              "</style>\n",
              "<table border=\"1\" class=\"dataframe\">\n",
              "  <thead>\n",
              "    <tr style=\"text-align: right;\">\n",
              "      <th></th>\n",
              "      <th>gender</th>\n",
              "      <th>SeniorCitizen</th>\n",
              "      <th>Partner</th>\n",
              "      <th>Dependents</th>\n",
              "      <th>tenure</th>\n",
              "      <th>PhoneService</th>\n",
              "      <th>MultipleLines</th>\n",
              "      <th>OnlineSecurity</th>\n",
              "      <th>OnlineBackup</th>\n",
              "      <th>DeviceProtection</th>\n",
              "      <th>TechSupport</th>\n",
              "      <th>StreamingTV</th>\n",
              "      <th>StreamingMovies</th>\n",
              "      <th>PaperlessBilling</th>\n",
              "      <th>MonthlyCharges</th>\n",
              "      <th>TotalCharges</th>\n",
              "      <th>Churn</th>\n",
              "      <th>InternetService_DSL</th>\n",
              "      <th>InternetService_Fiber optic</th>\n",
              "      <th>InternetService_No</th>\n",
              "      <th>Contract_Month-to-month</th>\n",
              "      <th>Contract_One year</th>\n",
              "      <th>Contract_Two year</th>\n",
              "      <th>PaymentMethod_Bank transfer (automatic)</th>\n",
              "      <th>PaymentMethod_Credit card (automatic)</th>\n",
              "      <th>PaymentMethod_Electronic check</th>\n",
              "      <th>PaymentMethod_Mailed check</th>\n",
              "    </tr>\n",
              "  </thead>\n",
              "  <tbody>\n",
              "    <tr>\n",
              "      <th>0</th>\n",
              "      <td>1</td>\n",
              "      <td>0</td>\n",
              "      <td>1</td>\n",
              "      <td>0</td>\n",
              "      <td>0.000000</td>\n",
              "      <td>0</td>\n",
              "      <td>0</td>\n",
              "      <td>0</td>\n",
              "      <td>1</td>\n",
              "      <td>0</td>\n",
              "      <td>0</td>\n",
              "      <td>0</td>\n",
              "      <td>0</td>\n",
              "      <td>1</td>\n",
              "      <td>0.115423</td>\n",
              "      <td>0.001275</td>\n",
              "      <td>0</td>\n",
              "      <td>1</td>\n",
              "      <td>0</td>\n",
              "      <td>0</td>\n",
              "      <td>1</td>\n",
              "      <td>0</td>\n",
              "      <td>0</td>\n",
              "      <td>0</td>\n",
              "      <td>0</td>\n",
              "      <td>1</td>\n",
              "      <td>0</td>\n",
              "    </tr>\n",
              "    <tr>\n",
              "      <th>1</th>\n",
              "      <td>0</td>\n",
              "      <td>0</td>\n",
              "      <td>0</td>\n",
              "      <td>0</td>\n",
              "      <td>0.464789</td>\n",
              "      <td>1</td>\n",
              "      <td>0</td>\n",
              "      <td>1</td>\n",
              "      <td>0</td>\n",
              "      <td>1</td>\n",
              "      <td>0</td>\n",
              "      <td>0</td>\n",
              "      <td>0</td>\n",
              "      <td>0</td>\n",
              "      <td>0.385075</td>\n",
              "      <td>0.215867</td>\n",
              "      <td>0</td>\n",
              "      <td>1</td>\n",
              "      <td>0</td>\n",
              "      <td>0</td>\n",
              "      <td>0</td>\n",
              "      <td>1</td>\n",
              "      <td>0</td>\n",
              "      <td>0</td>\n",
              "      <td>0</td>\n",
              "      <td>0</td>\n",
              "      <td>1</td>\n",
              "    </tr>\n",
              "    <tr>\n",
              "      <th>2</th>\n",
              "      <td>0</td>\n",
              "      <td>0</td>\n",
              "      <td>0</td>\n",
              "      <td>0</td>\n",
              "      <td>0.014085</td>\n",
              "      <td>1</td>\n",
              "      <td>0</td>\n",
              "      <td>1</td>\n",
              "      <td>1</td>\n",
              "      <td>0</td>\n",
              "      <td>0</td>\n",
              "      <td>0</td>\n",
              "      <td>0</td>\n",
              "      <td>1</td>\n",
              "      <td>0.354229</td>\n",
              "      <td>0.010310</td>\n",
              "      <td>1</td>\n",
              "      <td>1</td>\n",
              "      <td>0</td>\n",
              "      <td>0</td>\n",
              "      <td>1</td>\n",
              "      <td>0</td>\n",
              "      <td>0</td>\n",
              "      <td>0</td>\n",
              "      <td>0</td>\n",
              "      <td>0</td>\n",
              "      <td>1</td>\n",
              "    </tr>\n",
              "    <tr>\n",
              "      <th>3</th>\n",
              "      <td>0</td>\n",
              "      <td>0</td>\n",
              "      <td>0</td>\n",
              "      <td>0</td>\n",
              "      <td>0.619718</td>\n",
              "      <td>0</td>\n",
              "      <td>0</td>\n",
              "      <td>1</td>\n",
              "      <td>0</td>\n",
              "      <td>1</td>\n",
              "      <td>1</td>\n",
              "      <td>0</td>\n",
              "      <td>0</td>\n",
              "      <td>0</td>\n",
              "      <td>0.239303</td>\n",
              "      <td>0.210241</td>\n",
              "      <td>0</td>\n",
              "      <td>1</td>\n",
              "      <td>0</td>\n",
              "      <td>0</td>\n",
              "      <td>0</td>\n",
              "      <td>1</td>\n",
              "      <td>0</td>\n",
              "      <td>1</td>\n",
              "      <td>0</td>\n",
              "      <td>0</td>\n",
              "      <td>0</td>\n",
              "    </tr>\n",
              "    <tr>\n",
              "      <th>4</th>\n",
              "      <td>1</td>\n",
              "      <td>0</td>\n",
              "      <td>0</td>\n",
              "      <td>0</td>\n",
              "      <td>0.014085</td>\n",
              "      <td>1</td>\n",
              "      <td>0</td>\n",
              "      <td>0</td>\n",
              "      <td>0</td>\n",
              "      <td>0</td>\n",
              "      <td>0</td>\n",
              "      <td>0</td>\n",
              "      <td>0</td>\n",
              "      <td>1</td>\n",
              "      <td>0.521891</td>\n",
              "      <td>0.015330</td>\n",
              "      <td>1</td>\n",
              "      <td>0</td>\n",
              "      <td>1</td>\n",
              "      <td>0</td>\n",
              "      <td>1</td>\n",
              "      <td>0</td>\n",
              "      <td>0</td>\n",
              "      <td>0</td>\n",
              "      <td>0</td>\n",
              "      <td>1</td>\n",
              "      <td>0</td>\n",
              "    </tr>\n",
              "  </tbody>\n",
              "</table>\n",
              "</div>"
            ],
            "text/plain": [
              "   gender  ...  PaymentMethod_Mailed check\n",
              "0       1  ...                           0\n",
              "1       0  ...                           1\n",
              "2       0  ...                           1\n",
              "3       0  ...                           0\n",
              "4       1  ...                           0\n",
              "\n",
              "[5 rows x 27 columns]"
            ]
          },
          "metadata": {
            "tags": []
          },
          "execution_count": 30
        }
      ]
    },
    {
      "cell_type": "markdown",
      "metadata": {
        "id": "yi7AENH_UzF-"
      },
      "source": [
        "**X dataset contains all the feature needed to predict the output**\n",
        "\n",
        "**y contains the output data**"
      ]
    },
    {
      "cell_type": "code",
      "metadata": {
        "id": "SwZzPn3_RjxI"
      },
      "source": [
        "X = df2.drop('Churn', axis = 1)\n",
        "y = df2['Churn']"
      ],
      "execution_count": null,
      "outputs": []
    },
    {
      "cell_type": "markdown",
      "metadata": {
        "id": "k1OFL14pVQf6"
      },
      "source": [
        "**Train Test Split**"
      ]
    },
    {
      "cell_type": "code",
      "metadata": {
        "id": "npGzxWq6Rdkh"
      },
      "source": [
        "from sklearn.model_selection import train_test_split\n",
        "X_train, X_test, y_train, y_test = train_test_split(X, y, test_size = 0.3, random_state = 15)"
      ],
      "execution_count": null,
      "outputs": []
    },
    {
      "cell_type": "code",
      "metadata": {
        "id": "ZfU1UKKAR958"
      },
      "source": [
        "import tensorflow as tf\n",
        "from tensorflow import keras"
      ],
      "execution_count": null,
      "outputs": []
    },
    {
      "cell_type": "markdown",
      "metadata": {
        "id": "2bs9hEhXVgjN"
      },
      "source": [
        "**Model implementation**"
      ]
    },
    {
      "cell_type": "code",
      "metadata": {
        "colab": {
          "base_uri": "https://localhost:8080/"
        },
        "id": "Kbp5AWNbbsxt",
        "outputId": "208d659d-7bf0-4364-c580-ae0f9be8a2f4"
      },
      "source": [
        "model = keras.Sequential([\n",
        "    keras.layers.Dense(26, input_shape=(26,), activation='relu'),\n",
        "    keras.layers.Dense(15, activation='relu'),\n",
        "    keras.layers.Dropout(0.2),\n",
        "    keras.layers.Dense(1, activation='sigmoid')\n",
        "])\n",
        "\n",
        "model.summary()"
      ],
      "execution_count": null,
      "outputs": [
        {
          "output_type": "stream",
          "text": [
            "Model: \"sequential\"\n",
            "_________________________________________________________________\n",
            "Layer (type)                 Output Shape              Param #   \n",
            "=================================================================\n",
            "dense (Dense)                (None, 26)                702       \n",
            "_________________________________________________________________\n",
            "dense_1 (Dense)              (None, 15)                405       \n",
            "_________________________________________________________________\n",
            "dropout (Dropout)            (None, 15)                0         \n",
            "_________________________________________________________________\n",
            "dense_2 (Dense)              (None, 1)                 16        \n",
            "=================================================================\n",
            "Total params: 1,123\n",
            "Trainable params: 1,123\n",
            "Non-trainable params: 0\n",
            "_________________________________________________________________\n"
          ],
          "name": "stdout"
        }
      ]
    },
    {
      "cell_type": "code",
      "metadata": {
        "id": "7QP6KMK-SOCv"
      },
      "source": [
        "# opt = keras.optimizers.Adam(learning_rate=0.01)\n",
        "model.compile(optimizer = 'adam',\n",
        "              loss = 'binary_crossentropy',\n",
        "              metrics = ['accuracy'])"
      ],
      "execution_count": null,
      "outputs": []
    },
    {
      "cell_type": "markdown",
      "metadata": {
        "id": "ZuFqDYmaVmqm"
      },
      "source": [
        "**Training the Model**"
      ]
    },
    {
      "cell_type": "code",
      "metadata": {
        "colab": {
          "base_uri": "https://localhost:8080/"
        },
        "id": "5M0NB-ynSs8E",
        "outputId": "4e9743e1-97da-48c0-b3b6-096175691b9e"
      },
      "source": [
        "epochs_hist = model.fit(X_train, y_train, epochs = 100, batch_size = 50, validation_split = 0.2)"
      ],
      "execution_count": null,
      "outputs": [
        {
          "output_type": "stream",
          "text": [
            "Epoch 1/100\n",
            "79/79 [==============================] - 4s 12ms/step - loss: 0.6293 - accuracy: 0.6482 - val_loss: 0.5142 - val_accuracy: 0.7289\n",
            "Epoch 2/100\n",
            "79/79 [==============================] - 0s 4ms/step - loss: 0.4911 - accuracy: 0.7361 - val_loss: 0.4683 - val_accuracy: 0.7553\n",
            "Epoch 3/100\n",
            "79/79 [==============================] - 0s 4ms/step - loss: 0.4393 - accuracy: 0.7766 - val_loss: 0.4587 - val_accuracy: 0.7706\n",
            "Epoch 4/100\n",
            "79/79 [==============================] - 0s 4ms/step - loss: 0.4393 - accuracy: 0.7935 - val_loss: 0.4533 - val_accuracy: 0.7726\n",
            "Epoch 5/100\n",
            "79/79 [==============================] - 0s 4ms/step - loss: 0.4335 - accuracy: 0.7933 - val_loss: 0.4506 - val_accuracy: 0.7746\n",
            "Epoch 6/100\n",
            "79/79 [==============================] - 0s 4ms/step - loss: 0.4214 - accuracy: 0.8024 - val_loss: 0.4496 - val_accuracy: 0.7777\n",
            "Epoch 7/100\n",
            "79/79 [==============================] - 0s 4ms/step - loss: 0.4284 - accuracy: 0.7874 - val_loss: 0.4477 - val_accuracy: 0.7807\n",
            "Epoch 8/100\n",
            "79/79 [==============================] - 0s 4ms/step - loss: 0.4142 - accuracy: 0.8032 - val_loss: 0.4463 - val_accuracy: 0.7878\n",
            "Epoch 9/100\n",
            "79/79 [==============================] - 0s 4ms/step - loss: 0.4186 - accuracy: 0.7998 - val_loss: 0.4468 - val_accuracy: 0.7838\n",
            "Epoch 10/100\n",
            "79/79 [==============================] - 0s 4ms/step - loss: 0.4129 - accuracy: 0.7984 - val_loss: 0.4470 - val_accuracy: 0.7898\n",
            "Epoch 11/100\n",
            "79/79 [==============================] - 0s 4ms/step - loss: 0.4101 - accuracy: 0.8036 - val_loss: 0.4434 - val_accuracy: 0.7868\n",
            "Epoch 12/100\n",
            "79/79 [==============================] - 0s 4ms/step - loss: 0.4307 - accuracy: 0.8008 - val_loss: 0.4443 - val_accuracy: 0.7929\n",
            "Epoch 13/100\n",
            "79/79 [==============================] - 0s 4ms/step - loss: 0.4288 - accuracy: 0.7956 - val_loss: 0.4424 - val_accuracy: 0.7898\n",
            "Epoch 14/100\n",
            "79/79 [==============================] - 0s 4ms/step - loss: 0.4179 - accuracy: 0.7963 - val_loss: 0.4419 - val_accuracy: 0.7898\n",
            "Epoch 15/100\n",
            "79/79 [==============================] - 0s 4ms/step - loss: 0.4212 - accuracy: 0.8039 - val_loss: 0.4398 - val_accuracy: 0.7929\n",
            "Epoch 16/100\n",
            "79/79 [==============================] - 0s 4ms/step - loss: 0.3972 - accuracy: 0.8145 - val_loss: 0.4379 - val_accuracy: 0.7909\n",
            "Epoch 17/100\n",
            "79/79 [==============================] - 0s 4ms/step - loss: 0.4160 - accuracy: 0.7993 - val_loss: 0.4364 - val_accuracy: 0.7898\n",
            "Epoch 18/100\n",
            "79/79 [==============================] - 0s 4ms/step - loss: 0.4202 - accuracy: 0.8067 - val_loss: 0.4385 - val_accuracy: 0.7959\n",
            "Epoch 19/100\n",
            "79/79 [==============================] - 0s 4ms/step - loss: 0.4193 - accuracy: 0.8050 - val_loss: 0.4362 - val_accuracy: 0.7909\n",
            "Epoch 20/100\n",
            "79/79 [==============================] - 0s 4ms/step - loss: 0.4003 - accuracy: 0.8179 - val_loss: 0.4355 - val_accuracy: 0.7868\n",
            "Epoch 21/100\n",
            "79/79 [==============================] - 0s 4ms/step - loss: 0.4022 - accuracy: 0.8111 - val_loss: 0.4389 - val_accuracy: 0.7929\n",
            "Epoch 22/100\n",
            "79/79 [==============================] - 0s 4ms/step - loss: 0.4226 - accuracy: 0.8047 - val_loss: 0.4368 - val_accuracy: 0.7868\n",
            "Epoch 23/100\n",
            "79/79 [==============================] - 0s 4ms/step - loss: 0.3933 - accuracy: 0.8129 - val_loss: 0.4355 - val_accuracy: 0.7919\n",
            "Epoch 24/100\n",
            "79/79 [==============================] - 0s 4ms/step - loss: 0.3950 - accuracy: 0.8166 - val_loss: 0.4340 - val_accuracy: 0.7878\n",
            "Epoch 25/100\n",
            "79/79 [==============================] - 0s 4ms/step - loss: 0.4025 - accuracy: 0.8114 - val_loss: 0.4350 - val_accuracy: 0.7888\n",
            "Epoch 26/100\n",
            "79/79 [==============================] - 0s 4ms/step - loss: 0.3949 - accuracy: 0.8224 - val_loss: 0.4348 - val_accuracy: 0.7878\n",
            "Epoch 27/100\n",
            "79/79 [==============================] - 0s 4ms/step - loss: 0.3776 - accuracy: 0.8324 - val_loss: 0.4326 - val_accuracy: 0.7939\n",
            "Epoch 28/100\n",
            "79/79 [==============================] - 0s 4ms/step - loss: 0.4055 - accuracy: 0.8126 - val_loss: 0.4348 - val_accuracy: 0.7888\n",
            "Epoch 29/100\n",
            "79/79 [==============================] - 0s 4ms/step - loss: 0.4149 - accuracy: 0.8135 - val_loss: 0.4338 - val_accuracy: 0.7868\n",
            "Epoch 30/100\n",
            "79/79 [==============================] - 0s 4ms/step - loss: 0.4068 - accuracy: 0.8078 - val_loss: 0.4388 - val_accuracy: 0.7878\n",
            "Epoch 31/100\n",
            "79/79 [==============================] - 0s 4ms/step - loss: 0.4214 - accuracy: 0.7983 - val_loss: 0.4345 - val_accuracy: 0.7878\n",
            "Epoch 32/100\n",
            "79/79 [==============================] - 0s 4ms/step - loss: 0.4031 - accuracy: 0.8149 - val_loss: 0.4341 - val_accuracy: 0.7888\n",
            "Epoch 33/100\n",
            "79/79 [==============================] - 0s 4ms/step - loss: 0.4090 - accuracy: 0.8011 - val_loss: 0.4371 - val_accuracy: 0.7888\n",
            "Epoch 34/100\n",
            "79/79 [==============================] - 0s 4ms/step - loss: 0.4033 - accuracy: 0.8140 - val_loss: 0.4374 - val_accuracy: 0.7909\n",
            "Epoch 35/100\n",
            "79/79 [==============================] - 0s 4ms/step - loss: 0.3821 - accuracy: 0.8265 - val_loss: 0.4339 - val_accuracy: 0.7848\n",
            "Epoch 36/100\n",
            "79/79 [==============================] - 0s 4ms/step - loss: 0.4065 - accuracy: 0.8110 - val_loss: 0.4366 - val_accuracy: 0.7878\n",
            "Epoch 37/100\n",
            "79/79 [==============================] - 0s 4ms/step - loss: 0.3928 - accuracy: 0.8152 - val_loss: 0.4367 - val_accuracy: 0.7898\n",
            "Epoch 38/100\n",
            "79/79 [==============================] - 0s 4ms/step - loss: 0.3864 - accuracy: 0.8222 - val_loss: 0.4357 - val_accuracy: 0.7797\n",
            "Epoch 39/100\n",
            "79/79 [==============================] - 0s 4ms/step - loss: 0.3730 - accuracy: 0.8299 - val_loss: 0.4370 - val_accuracy: 0.7838\n",
            "Epoch 40/100\n",
            "79/79 [==============================] - 0s 4ms/step - loss: 0.3934 - accuracy: 0.8122 - val_loss: 0.4366 - val_accuracy: 0.7817\n",
            "Epoch 41/100\n",
            "79/79 [==============================] - 0s 4ms/step - loss: 0.4070 - accuracy: 0.8168 - val_loss: 0.4388 - val_accuracy: 0.7817\n",
            "Epoch 42/100\n",
            "79/79 [==============================] - 0s 4ms/step - loss: 0.3862 - accuracy: 0.8272 - val_loss: 0.4385 - val_accuracy: 0.7858\n",
            "Epoch 43/100\n",
            "79/79 [==============================] - 0s 4ms/step - loss: 0.3977 - accuracy: 0.8131 - val_loss: 0.4397 - val_accuracy: 0.7827\n",
            "Epoch 44/100\n",
            "79/79 [==============================] - 0s 4ms/step - loss: 0.3852 - accuracy: 0.8301 - val_loss: 0.4365 - val_accuracy: 0.7817\n",
            "Epoch 45/100\n",
            "79/79 [==============================] - 0s 4ms/step - loss: 0.3867 - accuracy: 0.8211 - val_loss: 0.4402 - val_accuracy: 0.7817\n",
            "Epoch 46/100\n",
            "79/79 [==============================] - 0s 4ms/step - loss: 0.3925 - accuracy: 0.8165 - val_loss: 0.4401 - val_accuracy: 0.7817\n",
            "Epoch 47/100\n",
            "79/79 [==============================] - 0s 4ms/step - loss: 0.3926 - accuracy: 0.8219 - val_loss: 0.4382 - val_accuracy: 0.7787\n",
            "Epoch 48/100\n",
            "79/79 [==============================] - 0s 4ms/step - loss: 0.3741 - accuracy: 0.8244 - val_loss: 0.4396 - val_accuracy: 0.7807\n",
            "Epoch 49/100\n",
            "79/79 [==============================] - 0s 4ms/step - loss: 0.3838 - accuracy: 0.8243 - val_loss: 0.4380 - val_accuracy: 0.7797\n",
            "Epoch 50/100\n",
            "79/79 [==============================] - 0s 4ms/step - loss: 0.3867 - accuracy: 0.8249 - val_loss: 0.4404 - val_accuracy: 0.7766\n",
            "Epoch 51/100\n",
            "79/79 [==============================] - 0s 4ms/step - loss: 0.3747 - accuracy: 0.8267 - val_loss: 0.4408 - val_accuracy: 0.7766\n",
            "Epoch 52/100\n",
            "79/79 [==============================] - 0s 4ms/step - loss: 0.3935 - accuracy: 0.8193 - val_loss: 0.4432 - val_accuracy: 0.7736\n",
            "Epoch 53/100\n",
            "79/79 [==============================] - 0s 4ms/step - loss: 0.3799 - accuracy: 0.8232 - val_loss: 0.4413 - val_accuracy: 0.7756\n",
            "Epoch 54/100\n",
            "79/79 [==============================] - 0s 4ms/step - loss: 0.3866 - accuracy: 0.8133 - val_loss: 0.4426 - val_accuracy: 0.7777\n",
            "Epoch 55/100\n",
            "79/79 [==============================] - 0s 4ms/step - loss: 0.3902 - accuracy: 0.8167 - val_loss: 0.4401 - val_accuracy: 0.7746\n",
            "Epoch 56/100\n",
            "79/79 [==============================] - 0s 4ms/step - loss: 0.3732 - accuracy: 0.8292 - val_loss: 0.4448 - val_accuracy: 0.7787\n",
            "Epoch 57/100\n",
            "79/79 [==============================] - 0s 4ms/step - loss: 0.3759 - accuracy: 0.8278 - val_loss: 0.4415 - val_accuracy: 0.7777\n",
            "Epoch 58/100\n",
            "79/79 [==============================] - 0s 4ms/step - loss: 0.3595 - accuracy: 0.8274 - val_loss: 0.4395 - val_accuracy: 0.7746\n",
            "Epoch 59/100\n",
            "79/79 [==============================] - 0s 4ms/step - loss: 0.3821 - accuracy: 0.8185 - val_loss: 0.4430 - val_accuracy: 0.7787\n",
            "Epoch 60/100\n",
            "79/79 [==============================] - 0s 4ms/step - loss: 0.3723 - accuracy: 0.8296 - val_loss: 0.4420 - val_accuracy: 0.7777\n",
            "Epoch 61/100\n",
            "79/79 [==============================] - 0s 4ms/step - loss: 0.3721 - accuracy: 0.8245 - val_loss: 0.4429 - val_accuracy: 0.7797\n",
            "Epoch 62/100\n",
            "79/79 [==============================] - 0s 4ms/step - loss: 0.3661 - accuracy: 0.8335 - val_loss: 0.4428 - val_accuracy: 0.7787\n",
            "Epoch 63/100\n",
            "79/79 [==============================] - 0s 4ms/step - loss: 0.3716 - accuracy: 0.8282 - val_loss: 0.4438 - val_accuracy: 0.7756\n",
            "Epoch 64/100\n",
            "79/79 [==============================] - 0s 4ms/step - loss: 0.3711 - accuracy: 0.8253 - val_loss: 0.4436 - val_accuracy: 0.7736\n",
            "Epoch 65/100\n",
            "79/79 [==============================] - 0s 4ms/step - loss: 0.3630 - accuracy: 0.8364 - val_loss: 0.4434 - val_accuracy: 0.7777\n",
            "Epoch 66/100\n",
            "79/79 [==============================] - 0s 4ms/step - loss: 0.3730 - accuracy: 0.8162 - val_loss: 0.4442 - val_accuracy: 0.7797\n",
            "Epoch 67/100\n",
            "79/79 [==============================] - 0s 4ms/step - loss: 0.3620 - accuracy: 0.8325 - val_loss: 0.4495 - val_accuracy: 0.7756\n",
            "Epoch 68/100\n",
            "79/79 [==============================] - 0s 4ms/step - loss: 0.3590 - accuracy: 0.8360 - val_loss: 0.4463 - val_accuracy: 0.7777\n",
            "Epoch 69/100\n",
            "79/79 [==============================] - 0s 4ms/step - loss: 0.3864 - accuracy: 0.8201 - val_loss: 0.4472 - val_accuracy: 0.7736\n",
            "Epoch 70/100\n",
            "79/79 [==============================] - 0s 4ms/step - loss: 0.3734 - accuracy: 0.8239 - val_loss: 0.4479 - val_accuracy: 0.7777\n",
            "Epoch 71/100\n",
            "79/79 [==============================] - 0s 4ms/step - loss: 0.3687 - accuracy: 0.8290 - val_loss: 0.4479 - val_accuracy: 0.7777\n",
            "Epoch 72/100\n",
            "79/79 [==============================] - 0s 4ms/step - loss: 0.3628 - accuracy: 0.8368 - val_loss: 0.4492 - val_accuracy: 0.7777\n",
            "Epoch 73/100\n",
            "79/79 [==============================] - 0s 4ms/step - loss: 0.3685 - accuracy: 0.8298 - val_loss: 0.4514 - val_accuracy: 0.7766\n",
            "Epoch 74/100\n",
            "79/79 [==============================] - 0s 4ms/step - loss: 0.3568 - accuracy: 0.8399 - val_loss: 0.4453 - val_accuracy: 0.7726\n",
            "Epoch 75/100\n",
            "79/79 [==============================] - 0s 4ms/step - loss: 0.3725 - accuracy: 0.8325 - val_loss: 0.4505 - val_accuracy: 0.7777\n",
            "Epoch 76/100\n",
            "79/79 [==============================] - 0s 4ms/step - loss: 0.3619 - accuracy: 0.8358 - val_loss: 0.4463 - val_accuracy: 0.7726\n",
            "Epoch 77/100\n",
            "79/79 [==============================] - 0s 4ms/step - loss: 0.3649 - accuracy: 0.8344 - val_loss: 0.4492 - val_accuracy: 0.7766\n",
            "Epoch 78/100\n",
            "79/79 [==============================] - 0s 4ms/step - loss: 0.3668 - accuracy: 0.8345 - val_loss: 0.4520 - val_accuracy: 0.7756\n",
            "Epoch 79/100\n",
            "79/79 [==============================] - 0s 4ms/step - loss: 0.3679 - accuracy: 0.8235 - val_loss: 0.4548 - val_accuracy: 0.7797\n",
            "Epoch 80/100\n",
            "79/79 [==============================] - 0s 4ms/step - loss: 0.3639 - accuracy: 0.8374 - val_loss: 0.4492 - val_accuracy: 0.7777\n",
            "Epoch 81/100\n",
            "79/79 [==============================] - 0s 4ms/step - loss: 0.3678 - accuracy: 0.8279 - val_loss: 0.4535 - val_accuracy: 0.7766\n",
            "Epoch 82/100\n",
            "79/79 [==============================] - 0s 4ms/step - loss: 0.3611 - accuracy: 0.8293 - val_loss: 0.4509 - val_accuracy: 0.7807\n",
            "Epoch 83/100\n",
            "79/79 [==============================] - 0s 4ms/step - loss: 0.3573 - accuracy: 0.8392 - val_loss: 0.4504 - val_accuracy: 0.7777\n",
            "Epoch 84/100\n",
            "79/79 [==============================] - 0s 4ms/step - loss: 0.3594 - accuracy: 0.8349 - val_loss: 0.4533 - val_accuracy: 0.7736\n",
            "Epoch 85/100\n",
            "79/79 [==============================] - 0s 4ms/step - loss: 0.3707 - accuracy: 0.8229 - val_loss: 0.4538 - val_accuracy: 0.7777\n",
            "Epoch 86/100\n",
            "79/79 [==============================] - 0s 4ms/step - loss: 0.3539 - accuracy: 0.8335 - val_loss: 0.4513 - val_accuracy: 0.7766\n",
            "Epoch 87/100\n",
            "79/79 [==============================] - 0s 4ms/step - loss: 0.3417 - accuracy: 0.8387 - val_loss: 0.4525 - val_accuracy: 0.7817\n",
            "Epoch 88/100\n",
            "79/79 [==============================] - 0s 4ms/step - loss: 0.3596 - accuracy: 0.8401 - val_loss: 0.4514 - val_accuracy: 0.7766\n",
            "Epoch 89/100\n",
            "79/79 [==============================] - 0s 4ms/step - loss: 0.3601 - accuracy: 0.8385 - val_loss: 0.4568 - val_accuracy: 0.7736\n",
            "Epoch 90/100\n",
            "79/79 [==============================] - 0s 4ms/step - loss: 0.3619 - accuracy: 0.8359 - val_loss: 0.4570 - val_accuracy: 0.7736\n",
            "Epoch 91/100\n",
            "79/79 [==============================] - 0s 4ms/step - loss: 0.3600 - accuracy: 0.8342 - val_loss: 0.4579 - val_accuracy: 0.7726\n",
            "Epoch 92/100\n",
            "79/79 [==============================] - 0s 4ms/step - loss: 0.3570 - accuracy: 0.8393 - val_loss: 0.4577 - val_accuracy: 0.7726\n",
            "Epoch 93/100\n",
            "79/79 [==============================] - 0s 4ms/step - loss: 0.3618 - accuracy: 0.8347 - val_loss: 0.4564 - val_accuracy: 0.7807\n",
            "Epoch 94/100\n",
            "79/79 [==============================] - 0s 4ms/step - loss: 0.3584 - accuracy: 0.8313 - val_loss: 0.4611 - val_accuracy: 0.7797\n",
            "Epoch 95/100\n",
            "79/79 [==============================] - 0s 4ms/step - loss: 0.3793 - accuracy: 0.8183 - val_loss: 0.4561 - val_accuracy: 0.7787\n",
            "Epoch 96/100\n",
            "79/79 [==============================] - 0s 4ms/step - loss: 0.3453 - accuracy: 0.8432 - val_loss: 0.4584 - val_accuracy: 0.7706\n",
            "Epoch 97/100\n",
            "79/79 [==============================] - 0s 4ms/step - loss: 0.3527 - accuracy: 0.8362 - val_loss: 0.4617 - val_accuracy: 0.7716\n",
            "Epoch 98/100\n",
            "79/79 [==============================] - 0s 4ms/step - loss: 0.3601 - accuracy: 0.8454 - val_loss: 0.4715 - val_accuracy: 0.7827\n",
            "Epoch 99/100\n",
            "79/79 [==============================] - 0s 4ms/step - loss: 0.3478 - accuracy: 0.8375 - val_loss: 0.4622 - val_accuracy: 0.7746\n",
            "Epoch 100/100\n",
            "79/79 [==============================] - 0s 4ms/step - loss: 0.3524 - accuracy: 0.8334 - val_loss: 0.4681 - val_accuracy: 0.7848\n"
          ],
          "name": "stdout"
        }
      ]
    },
    {
      "cell_type": "code",
      "metadata": {
        "colab": {
          "base_uri": "https://localhost:8080/"
        },
        "id": "XsI0f5_ZUSH7",
        "outputId": "39a5e1d1-c7a9-4988-ffbc-72eaa9017a97"
      },
      "source": [
        "print(model.evaluate(X_test, y_test))"
      ],
      "execution_count": null,
      "outputs": [
        {
          "output_type": "stream",
          "text": [
            "66/66 [==============================] - 0s 2ms/step - loss: 0.4697 - accuracy: 0.7934\n",
            "[0.4696808457374573, 0.793364942073822]\n"
          ],
          "name": "stdout"
        }
      ]
    },
    {
      "cell_type": "markdown",
      "metadata": {
        "id": "5UQ9MfCIVzWJ"
      },
      "source": [
        "**Predicting the output and printing the Classification Report**"
      ]
    },
    {
      "cell_type": "code",
      "metadata": {
        "colab": {
          "base_uri": "https://localhost:8080/"
        },
        "id": "7ZPSOTkXUoFQ",
        "outputId": "602ababc-4b1b-4239-f733-5e13c32e4dba"
      },
      "source": [
        "y_preds = model.predict(X_test)\n",
        "y_preds = np.round(y_preds)\n",
        "    \n",
        "print(\"Classification Report: \\n\", classification_report(y_test, y_preds))"
      ],
      "execution_count": null,
      "outputs": [
        {
          "output_type": "stream",
          "text": [
            "Classification Report: \n",
            "               precision    recall  f1-score   support\n",
            "\n",
            "           0       0.83      0.91      0.87      1549\n",
            "           1       0.65      0.48      0.56       561\n",
            "\n",
            "    accuracy                           0.79      2110\n",
            "   macro avg       0.74      0.69      0.71      2110\n",
            "weighted avg       0.78      0.79      0.78      2110\n",
            "\n"
          ],
          "name": "stdout"
        }
      ]
    },
    {
      "cell_type": "code",
      "metadata": {
        "id": "7TWwylMNiOGG"
      },
      "source": [
        "yp = model.predict(X_test)\n",
        "y_pred = []\n",
        "for element in yp:\n",
        "  if element > 0.5:\n",
        "    y_pred.append(1)\n",
        "  else:\n",
        "    y_pred.append(0)"
      ],
      "execution_count": null,
      "outputs": []
    },
    {
      "cell_type": "markdown",
      "metadata": {
        "id": "74TjfWO5oFWq"
      },
      "source": [
        "Confusion Matrix"
      ]
    },
    {
      "cell_type": "code",
      "metadata": {
        "colab": {
          "base_uri": "https://localhost:8080/",
          "height": 464
        },
        "id": "Yjteem9Shw49",
        "outputId": "cfa89ada-fd42-47a8-e36d-358e3d99e7f7"
      },
      "source": [
        "cm = tf.math.confusion_matrix(labels = y_test, predictions = y_pred)\n",
        "\n",
        "plt.figure(figsize = (10, 7))\n",
        "sns.heatmap(cm, annot = True, fmt = 'd')\n",
        "plt.xlabel('Predicted')\n",
        "plt.ylabel('Truth')"
      ],
      "execution_count": null,
      "outputs": [
        {
          "output_type": "execute_result",
          "data": {
            "text/plain": [
              "Text(69.0, 0.5, 'Truth')"
            ]
          },
          "metadata": {
            "tags": []
          },
          "execution_count": 40
        },
        {
          "output_type": "display_data",
          "data": {
            "image/png": "[encoded data removed]",
            "text/plain": [
              "<Figure size 720x504 with 2 Axes>"
            ]
          },
          "metadata": {
            "tags": [],
            "needs_background": "light"
          }
        }
      ]
    },
    {
      "cell_type": "markdown",
      "metadata": {
        "id": "2JXlKjINXGDd"
      },
      "source": [
        "**Optimising The Model**"
      ]
    },
    {
      "cell_type": "code",
      "metadata": {
        "colab": {
          "base_uri": "https://localhost:8080/"
        },
        "id": "XWsi3lgt9hUy",
        "outputId": "4a0df0b0-eb16-4a92-c09e-a7870554f911"
      },
      "source": [
        "df2.Churn.value_counts()"
      ],
      "execution_count": null,
      "outputs": [
        {
          "output_type": "execute_result",
          "data": {
            "text/plain": [
              "0    5163\n",
              "1    1869\n",
              "Name: Churn, dtype: int64"
            ]
          },
          "metadata": {
            "tags": []
          },
          "execution_count": 41
        }
      ]
    },
    {
      "cell_type": "markdown",
      "metadata": {
        "id": "Zt2PYRbRbnl3"
      },
      "source": [
        "**Handling The Imbalanced Dataset**"
      ]
    },
    {
      "cell_type": "markdown",
      "metadata": {
        "id": "hbz6jZmm9pcr"
      },
      "source": [
        "So, we can see that data is imbalanced. Using SMOTE technique to handle the imbalanced dataset"
      ]
    },
    {
      "cell_type": "code",
      "metadata": {
        "colab": {
          "base_uri": "https://localhost:8080/"
        },
        "id": "lVBuNpAV93O3",
        "outputId": "dc27e12e-e06f-4f5b-a7e1-ae7450c9ba72"
      },
      "source": [
        "!pip install imbalanced-learn"
      ],
      "execution_count": null,
      "outputs": [
        {
          "output_type": "stream",
          "text": [
            "Requirement already satisfied: imbalanced-learn in /usr/local/lib/python3.7/dist-packages (0.4.3)\n",
            "Requirement already satisfied: scipy>=0.13.3 in /usr/local/lib/python3.7/dist-packages (from imbalanced-learn) (1.4.1)\n",
            "Requirement already satisfied: scikit-learn>=0.20 in /usr/local/lib/python3.7/dist-packages (from imbalanced-learn) (0.22.2.post1)\n",
            "Requirement already satisfied: numpy>=1.8.2 in /usr/local/lib/python3.7/dist-packages (from imbalanced-learn) (1.19.5)\n",
            "Requirement already satisfied: joblib>=0.11 in /usr/local/lib/python3.7/dist-packages (from scikit-learn>=0.20->imbalanced-learn) (1.0.1)\n"
          ],
          "name": "stdout"
        }
      ]
    },
    {
      "cell_type": "code",
      "metadata": {
        "colab": {
          "base_uri": "https://localhost:8080/"
        },
        "id": "2F8qXpnc-BL9",
        "outputId": "c1f3f67a-8204-4414-ae16-83b97482ba93"
      },
      "source": [
        "from imblearn.over_sampling import SMOTE\n",
        "\n",
        "smote = SMOTE(sampling_strategy='minority')\n",
        "X_sm, y_sm = smote.fit_sample(X, y)\n"
      ],
      "execution_count": null,
      "outputs": [
        {
          "output_type": "stream",
          "text": [
            "/usr/local/lib/python3.7/dist-packages/sklearn/externals/six.py:31: FutureWarning: The module is deprecated in version 0.21 and will be removed in version 0.23 since we've dropped support for Python 2.7. Please rely on the official version of six (https://pypi.org/project/six/).\n",
            "  \"(https://pypi.org/project/six/).\", FutureWarning)\n",
            "/usr/local/lib/python3.7/dist-packages/sklearn/utils/deprecation.py:144: FutureWarning: The sklearn.neighbors.base module is  deprecated in version 0.22 and will be removed in version 0.24. The corresponding classes / functions should instead be imported from sklearn.neighbors. Anything that cannot be imported from sklearn.neighbors is now part of the private API.\n",
            "  warnings.warn(message, FutureWarning)\n",
            "/usr/local/lib/python3.7/dist-packages/sklearn/utils/deprecation.py:87: FutureWarning: Function safe_indexing is deprecated; safe_indexing is deprecated in version 0.22 and will be removed in version 0.24.\n",
            "  warnings.warn(msg, category=FutureWarning)\n"
          ],
          "name": "stderr"
        }
      ]
    },
    {
      "cell_type": "code",
      "metadata": {
        "colab": {
          "base_uri": "https://localhost:8080/"
        },
        "id": "QG-_wxOn-xhw",
        "outputId": "47d2968d-946b-416a-d0a0-476af5068f8e"
      },
      "source": [
        "len(y_sm)"
      ],
      "execution_count": null,
      "outputs": [
        {
          "output_type": "execute_result",
          "data": {
            "text/plain": [
              "10326"
            ]
          },
          "metadata": {
            "tags": []
          },
          "execution_count": 44
        }
      ]
    },
    {
      "cell_type": "markdown",
      "metadata": {
        "id": "V2Rgtc9c_LV3"
      },
      "source": [
        "Performing the Train Test split again"
      ]
    },
    {
      "cell_type": "code",
      "metadata": {
        "id": "T1FvSxoP_TcU"
      },
      "source": [
        "X_train, X_test, y_train, y_test = train_test_split(X_sm, y_sm, test_size=0.3, random_state=15, stratify=y_sm)"
      ],
      "execution_count": null,
      "outputs": []
    },
    {
      "cell_type": "code",
      "metadata": {
        "colab": {
          "base_uri": "https://localhost:8080/"
        },
        "id": "qnhL7-yxcQ77",
        "outputId": "846c8863-6448-4b66-f8ec-717b37694d8c"
      },
      "source": [
        "print(X_train.shape, X_test.shape)"
      ],
      "execution_count": null,
      "outputs": [
        {
          "output_type": "stream",
          "text": [
            "(7228, 26) (3098, 26)\n"
          ],
          "name": "stdout"
        }
      ]
    },
    {
      "cell_type": "code",
      "metadata": {
        "colab": {
          "base_uri": "https://localhost:8080/"
        },
        "id": "0CtaPhA4cZ4W",
        "outputId": "e49bd6dd-a813-4a76-f3ab-92ac687f9105"
      },
      "source": [
        "print(y_train.shape, y_test.shape)"
      ],
      "execution_count": null,
      "outputs": [
        {
          "output_type": "stream",
          "text": [
            "(7228,) (3098,)\n"
          ],
          "name": "stdout"
        }
      ]
    },
    {
      "cell_type": "markdown",
      "metadata": {
        "id": "1cOspSeTXgmO"
      },
      "source": [
        "Retraining the Model"
      ]
    },
    {
      "cell_type": "code",
      "metadata": {
        "colab": {
          "base_uri": "https://localhost:8080/"
        },
        "id": "JEOeAroNcmnq",
        "outputId": "6c8e5fed-e62b-45de-eb89-258f21a60bb4"
      },
      "source": [
        "model = keras.Sequential([\n",
        "    keras.layers.Dense(26, input_shape=(26,), activation='relu'),\n",
        "    keras.layers.Dense(15, activation='relu'),\n",
        "    keras.layers.Dropout(0.2),\n",
        "    keras.layers.Dense(1, activation='sigmoid')\n",
        "])\n",
        "\n",
        "model.summary()"
      ],
      "execution_count": null,
      "outputs": [
        {
          "output_type": "stream",
          "text": [
            "Model: \"sequential_1\"\n",
            "_________________________________________________________________\n",
            "Layer (type)                 Output Shape              Param #   \n",
            "=================================================================\n",
            "dense_3 (Dense)              (None, 26)                702       \n",
            "_________________________________________________________________\n",
            "dense_4 (Dense)              (None, 15)                405       \n",
            "_________________________________________________________________\n",
            "dropout_1 (Dropout)          (None, 15)                0         \n",
            "_________________________________________________________________\n",
            "dense_5 (Dense)              (None, 1)                 16        \n",
            "=================================================================\n",
            "Total params: 1,123\n",
            "Trainable params: 1,123\n",
            "Non-trainable params: 0\n",
            "_________________________________________________________________\n"
          ],
          "name": "stdout"
        }
      ]
    },
    {
      "cell_type": "code",
      "metadata": {
        "id": "B0DSJl8wACel"
      },
      "source": [
        "# opt = keras.optimizers.Adam(learning_rate=0.01)\n",
        "model.compile(optimizer='adam',\n",
        "              loss='binary_crossentropy',\n",
        "              metrics=['accuracy'])"
      ],
      "execution_count": null,
      "outputs": []
    },
    {
      "cell_type": "code",
      "metadata": {
        "id": "Y3dLo4lOAcLy"
      },
      "source": [
        "from keras.callbacks import  EarlyStopping,ReduceLROnPlateau"
      ],
      "execution_count": null,
      "outputs": []
    },
    {
      "cell_type": "markdown",
      "metadata": {
        "id": "LofoMU9wmbdJ"
      },
      "source": [
        "Using EarlyStopping"
      ]
    },
    {
      "cell_type": "code",
      "metadata": {
        "id": "d5-P6M2wAGKP"
      },
      "source": [
        "callback_list = [\n",
        "                 EarlyStopping(monitor = 'accuracy', patience = 2),\n",
        "                 ReduceLROnPlateau(monitor = 'loss', factor = 0.1, patience = 1)\n",
        "]"
      ],
      "execution_count": null,
      "outputs": []
    },
    {
      "cell_type": "markdown",
      "metadata": {
        "id": "tkLSwWCsmncP"
      },
      "source": [
        "**Fitting the Model**"
      ]
    },
    {
      "cell_type": "code",
      "metadata": {
        "colab": {
          "base_uri": "https://localhost:8080/"
        },
        "id": "clf8ckmaAO_w",
        "outputId": "32d0906a-db74-4830-83e7-655a14b8cab8"
      },
      "source": [
        "history = model.fit(X_train, y_train, callbacks = callback_list, batch_size = 8, epochs = 100, validation_split = 0.2)"
      ],
      "execution_count": null,
      "outputs": [
        {
          "output_type": "stream",
          "text": [
            "Epoch 1/100\n",
            "723/723 [==============================] - 3s 4ms/step - loss: 0.5880 - accuracy: 0.6911 - val_loss: 0.4947 - val_accuracy: 0.7586\n",
            "Epoch 2/100\n",
            "723/723 [==============================] - 3s 3ms/step - loss: 0.4923 - accuracy: 0.7725 - val_loss: 0.4811 - val_accuracy: 0.7669\n",
            "Epoch 3/100\n",
            "723/723 [==============================] - 3s 3ms/step - loss: 0.4727 - accuracy: 0.7756 - val_loss: 0.4787 - val_accuracy: 0.7656\n",
            "Epoch 4/100\n",
            "723/723 [==============================] - 3s 3ms/step - loss: 0.4612 - accuracy: 0.7847 - val_loss: 0.4798 - val_accuracy: 0.7683\n"
          ],
          "name": "stdout"
        }
      ]
    },
    {
      "cell_type": "markdown",
      "metadata": {
        "id": "s7GJQgEAm3eM"
      },
      "source": [
        "**Classification Report**"
      ]
    },
    {
      "cell_type": "code",
      "metadata": {
        "colab": {
          "base_uri": "https://localhost:8080/"
        },
        "id": "ZyNSrg2qubTe",
        "outputId": "bc6cdb0d-0c49-4f27-be0e-3d8085d6d6fc"
      },
      "source": [
        "print(model.evaluate(X_test, y_test))\n",
        "    \n",
        "y_preds = model.predict(X_test)\n",
        "y_preds = np.round(y_preds)\n",
        "    \n",
        "print(\"Classification Report: \\n\", classification_report(y_test, y_preds))"
      ],
      "execution_count": null,
      "outputs": [
        {
          "output_type": "stream",
          "text": [
            "97/97 [==============================] - 0s 2ms/step - loss: 0.4724 - accuracy: 0.7750\n",
            "[0.472403347492218, 0.7750161290168762]\n",
            "Classification Report: \n",
            "               precision    recall  f1-score   support\n",
            "\n",
            "           0       0.77      0.78      0.78      1549\n",
            "           1       0.78      0.77      0.77      1549\n",
            "\n",
            "    accuracy                           0.78      3098\n",
            "   macro avg       0.78      0.78      0.78      3098\n",
            "weighted avg       0.78      0.78      0.78      3098\n",
            "\n"
          ],
          "name": "stdout"
        }
      ]
    },
    {
      "cell_type": "markdown",
      "metadata": {
        "id": "Y-Di33TYnXn9"
      },
      "source": [
        "**We can see that f1-score has increased**"
      ]
    },
    {
      "cell_type": "markdown",
      "metadata": {
        "id": "cKs42pzjnCRY"
      },
      "source": [
        "Visualising the models rate of accuracy and loss"
      ]
    },
    {
      "cell_type": "code",
      "metadata": {
        "id": "oBTaUge-BMRU",
        "colab": {
          "base_uri": "https://localhost:8080/",
          "height": 545
        },
        "outputId": "6735cdd6-16a8-4763-e1f6-2fa663bb3665"
      },
      "source": [
        "acc = history.history['accuracy']\n",
        "val_acc = history.history['val_accuracy']\n",
        "loss = history.history['loss']\n",
        "val_loss = history.history['val_loss']\n",
        "epochs = range(1, len(acc)+1)\n",
        "\n",
        "plt.figure()\n",
        "\n",
        "plt.plot(epochs, acc, 'bo', label='Train Acc')\n",
        "plt.plot(epochs, val_acc, 'b', label='Val Acc')\n",
        "plt.title('Training and validation Acc')\n",
        "plt.legend()\n",
        "\n",
        "plt.figure()\n",
        "\n",
        "plt.plot(epochs, loss, 'bo', label='Train Loss')\n",
        "plt.plot(epochs, val_loss, 'b', label='Val Loss')\n",
        "plt.title('Training and validation Loss')\n",
        "plt.legend()\n",
        "\n",
        "plt.show()"
      ],
      "execution_count": null,
      "outputs": [
        {
          "output_type": "display_data",
          "data": {
            "image/png": "[encoded data removed]",
            "text/plain": [
              "<Figure size 432x288 with 1 Axes>"
            ]
          },
          "metadata": {
            "tags": [],
            "needs_background": "light"
          }
        },
        {
          "output_type": "display_data",
          "data": {
            "image/png": "[encoded data removed]",
            "text/plain": [
              "<Figure size 432x288 with 1 Axes>"
            ]
          },
          "metadata": {
            "tags": [],
            "needs_background": "light"
          }
        }
      ]
    },
    {
      "cell_type": "code",
      "metadata": {
        "id": "R9R1OcvsyIMj"
      },
      "source": [
        "yp = model.predict(X_test)"
      ],
      "execution_count": null,
      "outputs": []
    },
    {
      "cell_type": "code",
      "metadata": {
        "id": "kvlKLanvyuCk",
        "colab": {
          "base_uri": "https://localhost:8080/"
        },
        "outputId": "4e27b2ed-f1ce-480e-8fca-31e5c62d3c5f"
      },
      "source": [
        "yp[:5]"
      ],
      "execution_count": null,
      "outputs": [
        {
          "output_type": "execute_result",
          "data": {
            "text/plain": [
              "array([[0.8743082 ],\n",
              "       [0.2999949 ],\n",
              "       [0.08571985],\n",
              "       [0.06762949],\n",
              "       [0.5214746 ]], dtype=float32)"
            ]
          },
          "metadata": {
            "tags": []
          },
          "execution_count": 56
        }
      ]
    },
    {
      "cell_type": "code",
      "metadata": {
        "id": "IMF27MUjyxc9"
      },
      "source": [
        "y_pred = []\n",
        "for element in yp:\n",
        "  if element > 0.5:\n",
        "    y_pred.append(1)\n",
        "  else:\n",
        "    y_pred.append(0)"
      ],
      "execution_count": null,
      "outputs": []
    },
    {
      "cell_type": "code",
      "metadata": {
        "id": "jpbfdaX-zIsp",
        "colab": {
          "base_uri": "https://localhost:8080/"
        },
        "outputId": "d0706796-ec98-47c3-c00f-e749189380a7"
      },
      "source": [
        "y_pred[:10]"
      ],
      "execution_count": null,
      "outputs": [
        {
          "output_type": "execute_result",
          "data": {
            "text/plain": [
              "[1, 0, 0, 0, 1, 0, 0, 0, 1, 1]"
            ]
          },
          "metadata": {
            "tags": []
          },
          "execution_count": 58
        }
      ]
    },
    {
      "cell_type": "code",
      "metadata": {
        "id": "I5Yh7GS4zPXf",
        "colab": {
          "base_uri": "https://localhost:8080/"
        },
        "outputId": "77756e64-fbfe-43e0-f869-2387f18f84a8"
      },
      "source": [
        "y_test[:10]"
      ],
      "execution_count": null,
      "outputs": [
        {
          "output_type": "execute_result",
          "data": {
            "text/plain": [
              "array([1, 0, 0, 0, 0, 0, 1, 0, 1, 1])"
            ]
          },
          "metadata": {
            "tags": []
          },
          "execution_count": 59
        }
      ]
    },
    {
      "cell_type": "markdown",
      "metadata": {
        "id": "zcZlzXsHnPX6"
      },
      "source": [
        "**Confusion Matrix**"
      ]
    },
    {
      "cell_type": "code",
      "metadata": {
        "id": "qP7CvzzrztG_",
        "colab": {
          "base_uri": "https://localhost:8080/",
          "height": 460
        },
        "outputId": "c141e307-f611-4301-cbdf-99b8d373d9a5"
      },
      "source": [
        "import seaborn as sns\n",
        "cm = tf.math.confusion_matrix(labels = y_test, predictions = y_pred)\n",
        "\n",
        "plt.figure(figsize = (10, 7))\n",
        "sns.heatmap(cm, annot = True, fmt = 'd')\n",
        "plt.xlabel('Predicted')\n",
        "plt.ylabel('Truth')"
      ],
      "execution_count": null,
      "outputs": [
        {
          "output_type": "execute_result",
          "data": {
            "text/plain": [
              "Text(69.0, 0.5, 'Truth')"
            ]
          },
          "metadata": {
            "tags": []
          },
          "execution_count": 60
        },
        {
          "output_type": "display_data",
          "data": {
            "image/png": "[encoded data removed]",
            "text/plain": [
              "<Figure size 720x504 with 2 Axes>"
            ]
          },
          "metadata": {
            "tags": [],
            "needs_background": "light"
          }
        }
      ]
    },
    {
      "cell_type": "markdown",
      "metadata": {
        "id": "UsvGobxq1mCP"
      },
      "source": [
        "**Hyperparameter Tuning**"
      ]
    },
    {
      "cell_type": "code",
      "metadata": {
        "id": "MMW6e3_91rA_",
        "colab": {
          "base_uri": "https://localhost:8080/"
        },
        "outputId": "b8a5587e-7a47-465f-ba9e-d47a8f18d5c9"
      },
      "source": [
        "from keras.wrappers.scikit_learn import KerasClassifier\n",
        "from sklearn.model_selection import GridSearchCV\n",
        "from keras.models import Sequential\n",
        "from keras.layers import Dense\n",
        "\n",
        "def build_classifier(optimizer):\n",
        "    classifier = keras.Sequential([\n",
        "    keras.layers.Dense(26, input_shape=(26,), activation='relu'),\n",
        "    keras.layers.Dense(15, activation='relu'),\n",
        "    keras.layers.Dense(1, activation='sigmoid')\n",
        "    ])\n",
        "    classifier.compile(optimizer = optimizer, loss = 'binary_crossentropy', metrics = ['accuracy'])\n",
        "    return classifier\n",
        "\n",
        "classifier = KerasClassifier(build_fn = build_classifier)\n",
        "parameters = {'batch_size': [25, 32],\n",
        "              'nb_epoch': [100, 500],\n",
        "              'optimizer': ['adam', 'rmsprop']}\n",
        "grid_search = GridSearchCV(estimator = classifier,\n",
        "                           param_grid = parameters,\n",
        "                           scoring = 'accuracy',\n",
        "                           cv = 10)\n",
        "grid_search = grid_search.fit(X_train, y_train)\n",
        "best_parameters = grid_search.best_params_\n",
        "best_accuracy = grid_search.best_score_\n",
        "\n",
        "print(best_parameters)\n",
        "print(best_accuracy)"
      ],
      "execution_count": null,
      "outputs": [
        {
          "output_type": "stream",
          "text": [
            "261/261 [==============================] - 1s 3ms/step - loss: 0.6150 - accuracy: 0.6540\n"
          ],
          "name": "stdout"
        },
        {
          "output_type": "stream",
          "text": [
            "/usr/local/lib/python3.7/dist-packages/tensorflow/python/keras/engine/sequential.py:450: UserWarning: `model.predict_classes()` is deprecated and will be removed after 2021-01-01. Please use instead:* `np.argmax(model.predict(x), axis=-1)`,   if your model does multi-class classification   (e.g. if it uses a `softmax` last-layer activation).* `(model.predict(x) > 0.5).astype(\"int32\")`,   if your model does binary classification   (e.g. if it uses a `sigmoid` last-layer activation).\n",
            "  warnings.warn('`model.predict_classes()` is deprecated and '\n"
          ],
          "name": "stderr"
        },
        {
          "output_type": "stream",
          "text": [
            "261/261 [==============================] - 1s 3ms/step - loss: 0.6175 - accuracy: 0.6582\n",
            "261/261 [==============================] - 1s 3ms/step - loss: 0.5829 - accuracy: 0.7126\n",
            "261/261 [==============================] - 1s 3ms/step - loss: 0.6133 - accuracy: 0.6525\n",
            "261/261 [==============================] - 1s 3ms/step - loss: 0.5798 - accuracy: 0.7188\n",
            "261/261 [==============================] - 1s 3ms/step - loss: 0.6066 - accuracy: 0.6800\n",
            "261/261 [==============================] - 1s 3ms/step - loss: 0.6127 - accuracy: 0.6775\n",
            "261/261 [==============================] - 1s 3ms/step - loss: 0.6052 - accuracy: 0.6713\n",
            "261/261 [==============================] - 1s 3ms/step - loss: 0.6075 - accuracy: 0.7070\n",
            "261/261 [==============================] - 1s 3ms/step - loss: 0.6522 - accuracy: 0.6207\n",
            "261/261 [==============================] - 1s 3ms/step - loss: 0.6042 - accuracy: 0.6908\n",
            "261/261 [==============================] - 1s 3ms/step - loss: 0.6335 - accuracy: 0.6337\n",
            "261/261 [==============================] - 1s 3ms/step - loss: 0.5845 - accuracy: 0.7167\n",
            "261/261 [==============================] - 1s 3ms/step - loss: 0.6216 - accuracy: 0.6521\n",
            "261/261 [==============================] - 1s 3ms/step - loss: 0.5922 - accuracy: 0.7133\n",
            "261/261 [==============================] - 2s 3ms/step - loss: 0.5804 - accuracy: 0.7038\n",
            "261/261 [==============================] - 1s 3ms/step - loss: 0.6052 - accuracy: 0.6687\n",
            "261/261 [==============================] - 1s 3ms/step - loss: 0.6406 - accuracy: 0.6499\n",
            "261/261 [==============================] - 1s 3ms/step - loss: 0.6171 - accuracy: 0.6637\n",
            "261/261 [==============================] - 1s 3ms/step - loss: 0.5882 - accuracy: 0.7052\n",
            "261/261 [==============================] - 1s 3ms/step - loss: 0.6348 - accuracy: 0.6242\n",
            "261/261 [==============================] - 1s 3ms/step - loss: 0.6948 - accuracy: 0.6036\n",
            "261/261 [==============================] - 1s 3ms/step - loss: 0.6189 - accuracy: 0.6506\n",
            "261/261 [==============================] - 1s 3ms/step - loss: 0.6137 - accuracy: 0.6600\n",
            "261/261 [==============================] - 1s 3ms/step - loss: 0.6025 - accuracy: 0.6769\n",
            "261/261 [==============================] - 1s 3ms/step - loss: 0.6051 - accuracy: 0.6862\n",
            "261/261 [==============================] - 2s 3ms/step - loss: 0.6069 - accuracy: 0.6701\n",
            "261/261 [==============================] - 1s 3ms/step - loss: 0.6180 - accuracy: 0.6575\n",
            "261/261 [==============================] - 1s 3ms/step - loss: 0.6232 - accuracy: 0.6172\n",
            "261/261 [==============================] - 1s 3ms/step - loss: 0.5931 - accuracy: 0.6875\n",
            "261/261 [==============================] - 1s 3ms/step - loss: 0.5583 - accuracy: 0.7334\n",
            "261/261 [==============================] - 1s 3ms/step - loss: 0.5928 - accuracy: 0.6930\n",
            "261/261 [==============================] - 2s 3ms/step - loss: 0.5785 - accuracy: 0.7056\n",
            "261/261 [==============================] - 1s 3ms/step - loss: 0.6024 - accuracy: 0.6793\n",
            "261/261 [==============================] - 1s 3ms/step - loss: 0.6271 - accuracy: 0.6625\n",
            "261/261 [==============================] - 1s 3ms/step - loss: 0.5839 - accuracy: 0.7053\n",
            "261/261 [==============================] - 1s 3ms/step - loss: 0.6249 - accuracy: 0.6529\n",
            "261/261 [==============================] - 1s 3ms/step - loss: 0.5996 - accuracy: 0.6821\n",
            "261/261 [==============================] - 1s 3ms/step - loss: 0.6278 - accuracy: 0.6366\n",
            "261/261 [==============================] - 2s 3ms/step - loss: 0.5931 - accuracy: 0.6607\n",
            "204/204 [==============================] - 1s 3ms/step - loss: 0.6055 - accuracy: 0.6777\n",
            "204/204 [==============================] - 1s 3ms/step - loss: 0.6252 - accuracy: 0.6459\n",
            "204/204 [==============================] - 1s 3ms/step - loss: 0.5979 - accuracy: 0.7111\n",
            "204/204 [==============================] - 1s 3ms/step - loss: 0.6360 - accuracy: 0.6108\n",
            "204/204 [==============================] - 1s 3ms/step - loss: 0.5964 - accuracy: 0.6903\n",
            "204/204 [==============================] - 1s 3ms/step - loss: 0.6345 - accuracy: 0.6287\n",
            "204/204 [==============================] - 1s 3ms/step - loss: 0.6177 - accuracy: 0.6575\n",
            "204/204 [==============================] - 1s 3ms/step - loss: 0.6284 - accuracy: 0.6440\n",
            "204/204 [==============================] - 1s 3ms/step - loss: 0.6138 - accuracy: 0.6644\n",
            "204/204 [==============================] - 1s 3ms/step - loss: 0.5843 - accuracy: 0.7308\n",
            "204/204 [==============================] - 1s 3ms/step - loss: 0.6411 - accuracy: 0.6143\n",
            "204/204 [==============================] - 1s 3ms/step - loss: 0.6030 - accuracy: 0.6936\n",
            "204/204 [==============================] - 1s 3ms/step - loss: 0.5901 - accuracy: 0.6984\n",
            "204/204 [==============================] - 1s 3ms/step - loss: 0.6080 - accuracy: 0.6917\n",
            "204/204 [==============================] - 1s 3ms/step - loss: 0.5700 - accuracy: 0.7121\n",
            "204/204 [==============================] - 1s 3ms/step - loss: 0.5734 - accuracy: 0.7158\n",
            "204/204 [==============================] - 1s 3ms/step - loss: 0.6002 - accuracy: 0.6940\n",
            "204/204 [==============================] - 1s 3ms/step - loss: 0.6161 - accuracy: 0.6526\n",
            "204/204 [==============================] - 1s 3ms/step - loss: 0.6162 - accuracy: 0.6215\n",
            "204/204 [==============================] - 1s 3ms/step - loss: 0.6068 - accuracy: 0.7124\n",
            "204/204 [==============================] - 1s 3ms/step - loss: 0.6062 - accuracy: 0.6610\n",
            "204/204 [==============================] - 1s 3ms/step - loss: 0.5769 - accuracy: 0.6957\n",
            "204/204 [==============================] - 1s 3ms/step - loss: 0.6436 - accuracy: 0.6288\n",
            "204/204 [==============================] - 1s 3ms/step - loss: 0.5753 - accuracy: 0.7259\n",
            "204/204 [==============================] - 1s 3ms/step - loss: 0.6142 - accuracy: 0.6918\n",
            "204/204 [==============================] - 1s 3ms/step - loss: 0.6239 - accuracy: 0.6498\n",
            "204/204 [==============================] - 1s 3ms/step - loss: 0.6036 - accuracy: 0.6831\n",
            "204/204 [==============================] - 1s 3ms/step - loss: 0.6256 - accuracy: 0.6428\n",
            "204/204 [==============================] - 1s 3ms/step - loss: 0.6097 - accuracy: 0.6769\n",
            "204/204 [==============================] - 1s 3ms/step - loss: 0.5919 - accuracy: 0.7052\n",
            "204/204 [==============================] - 1s 3ms/step - loss: 0.6084 - accuracy: 0.6724\n",
            "204/204 [==============================] - 1s 3ms/step - loss: 0.5931 - accuracy: 0.7057\n",
            "204/204 [==============================] - 1s 3ms/step - loss: 0.5938 - accuracy: 0.6918\n",
            "204/204 [==============================] - 1s 3ms/step - loss: 0.6018 - accuracy: 0.7074\n",
            "204/204 [==============================] - 1s 3ms/step - loss: 0.6105 - accuracy: 0.6625\n",
            "204/204 [==============================] - 1s 3ms/step - loss: 0.5564 - accuracy: 0.7377\n",
            "204/204 [==============================] - 1s 3ms/step - loss: 0.6149 - accuracy: 0.6511\n",
            "204/204 [==============================] - 1s 3ms/step - loss: 0.6152 - accuracy: 0.6724\n",
            "204/204 [==============================] - 1s 3ms/step - loss: 0.5856 - accuracy: 0.7186\n",
            "204/204 [==============================] - 1s 3ms/step - loss: 0.5725 - accuracy: 0.7097\n",
            "290/290 [==============================] - 1s 3ms/step - loss: 0.5886 - accuracy: 0.7106\n",
            "{'batch_size': 25, 'nb_epoch': 500, 'optimizer': 'adam'}\n",
            "0.771441899135259\n"
          ],
          "name": "stdout"
        }
      ]
    },
    {
      "cell_type": "code",
      "metadata": {
        "id": "lGhHi7z1i_qf",
        "colab": {
          "base_uri": "https://localhost:8080/"
        },
        "outputId": "de9f301d-3876-4fc9-bd91-48c5f9773f05"
      },
      "source": [
        "model.evaluate(\n",
        "    x = X_test, y = y_test, batch_size = 25, verbose=1, callbacks = callback_list\n",
        ")"
      ],
      "execution_count": null,
      "outputs": [
        {
          "output_type": "stream",
          "text": [
            "124/124 [==============================] - 0s 2ms/step - loss: 0.4724 - accuracy: 0.7750\n"
          ],
          "name": "stdout"
        },
        {
          "output_type": "execute_result",
          "data": {
            "text/plain": [
              "[0.47240346670150757, 0.7750161290168762]"
            ]
          },
          "metadata": {
            "tags": []
          },
          "execution_count": 62
        }
      ]
    },
    {
      "cell_type": "markdown",
      "metadata": {
        "id": "wBOubQNKoWF5"
      },
      "source": [
        "The first model gave a very good accuracy of 79.33%. But, the data was imbalanced which made the model vulnerable\n",
        "\n",
        "On making tbe data balanced, the f1-score has increased drastically.\n",
        "\n",
        "After handling the imbalanced data, the model was retrained. This time it gave an accuracy of 77.50%. \n",
        "\n",
        "Though the accuracy has decreased slightly but the model now can predict the positive values very well, which was not the case earlier."
      ]
    }
  ]
}